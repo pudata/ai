{
 "cells": [
  {
   "cell_type": "markdown",
   "metadata": {},
   "source": [
    "# Python语言基础"
   ]
  },
  {
   "cell_type": "markdown",
   "metadata": {},
   "source": [
    "### 杨庆跃老师面授班讲义 \n",
    "请安装最新版本Jupyter notebook进行编程实验"
   ]
  },
  {
   "cell_type": "markdown",
   "metadata": {},
   "source": [
    "## 关于Python语言"
   ]
  },
  {
   "cell_type": "markdown",
   "metadata": {},
   "source": [
    "Python 是一个高层次的结合了解释性、编译性、互动性和面向对象的通用语言。在第三方库(numpy, scipy, matplotlib, scikit-learn)的帮助下，已经成为最具实力的科学计算平台。\n",
    "\n",
    "### Python特性：\n",
    "1.易于学习：Python有相对较少的关键字，结构简单，和一个明确定义的语法，学习起来更加简单。   \n",
    "2.易于阅读：Python代码定义的更清晰。  \n",
    "3.易于维护：Python的成功在于它的源代码是相当容易维护的。  \n",
    "4.一个广泛的标准库：Python的最大的优势之一是丰富的库，跨平台的，在UNIX，Windows和Macintosh兼容很好。  \n",
    "5.互动模式：互动模式的支持，您可以从终端输入执行代码并获得结果的语言，互动的测试和调试代码片断。  \n",
    "6.可移植：基于其开放源代码的特性，Python已经被移植（也就是使其工作）到许多平台。  \n",
    "7.可扩展：如果你需要一段运行很快的关键代码，或者是想要编写一些不愿开放的算法，你可以使用C或C++完成那部分程序，然后从你的Python程序中调用。\n",
    "8.数据库：Python提供所有主要的商业数据库的接口。  \n",
    "9.GUI编程：Python支持GUI可以创建和移植到许多系统调用。  \n",
    "10.可嵌入: 你可以将Python嵌入到C/C++程序，让你的程序的用户获得\"脚本化\"的能力。  "
   ]
  },
  {
   "cell_type": "markdown",
   "metadata": {},
   "source": [
    "## Python基础"
   ]
  },
  {
   "cell_type": "markdown",
   "metadata": {},
   "source": [
    "第一个Python程序，使用print函数打印\"hello world!\"  \n",
    "务必加括号，里面的单双引号等价"
   ]
  },
  {
   "cell_type": "code",
   "execution_count": 1,
   "metadata": {},
   "outputs": [
    {
     "name": "stdout",
     "output_type": "stream",
     "text": [
      "Hello abc1!\n"
     ]
    }
   ],
   "source": [
    "print('Hello abc1!')"
   ]
  },
  {
   "cell_type": "markdown",
   "metadata": {},
   "source": [
    "### python中的变量本身无类型"
   ]
  },
  {
   "cell_type": "code",
   "execution_count": 4,
   "metadata": {},
   "outputs": [
    {
     "name": "stdout",
     "output_type": "stream",
     "text": [
      "12354\n"
     ]
    }
   ],
   "source": [
    "# Python中的变量不需要声明，直接赋值。变量就是变量，它没有类型，\"类型\"是变量所指的内存中对象的类型。\n",
    "name=\"Mary\"\n",
    "name=12354\n",
    "Name=56789\n",
    "print(name)"
   ]
  },
  {
   "cell_type": "markdown",
   "metadata": {},
   "source": [
    "### 编码\n",
    "\n",
    "默认情况下，Python 3 源码文件以 UTF-8 编码，所有字符串都是 unicode 字符串。 当然你也可以为源码文件指定不同的编码：  \n",
    "\\# -*- coding: utf-8 -*-\n",
    "\n",
    "### 标识符\n",
    "* 第一个字符必须是字母表中字母或下划线 _ 。\n",
    "* 标识符的其他的部分由字母、数字和下划线组成。\n",
    "* 标识符对<font color='red'>**大小写敏感**</font>。  \n",
    "\n",
    "### python保留字\n",
    "保留字即关键字，我们不能把它们用作任何标识符名称。Python 的标准库提供了一个 keyword 模块，可以输出当前版本的所有关键字："
   ]
  },
  {
   "cell_type": "code",
   "execution_count": 4,
   "metadata": {
    "scrolled": true
   },
   "outputs": [
    {
     "name": "stdout",
     "output_type": "stream",
     "text": [
      "['False', 'None', 'True', 'and', 'as', 'assert', 'async', 'await', 'break', 'class', 'continue', 'def', 'del', 'elif', 'else', 'except', 'finally', 'for', 'from', 'global', 'if', 'import', 'in', 'is', 'lambda', 'nonlocal', 'not', 'or', 'pass', 'raise', 'return', 'try', 'while', 'with', 'yield'],"
     ]
    }
   ],
   "source": [
    "import keyword\n",
    "print(keyword.kwlist,end=',')"
   ]
  },
  {
   "cell_type": "markdown",
   "metadata": {},
   "source": [
    "### 注释\n",
    "Python中单行注释以 # 开头  \n",
    "多行注释可以用多个 # 号，还有 ''' 和 \"\"\""
   ]
  },
  {
   "cell_type": "code",
   "execution_count": 6,
   "metadata": {},
   "outputs": [
    {
     "name": "stdout",
     "output_type": "stream",
     "text": [
      "Hello, python!\n",
      "Hello, pudata.com!\n"
     ]
    }
   ],
   "source": [
    "# 第一个注释\n",
    "print(\"Hello, python!\") # 第二个注释\n",
    "'''\n",
    "第三个注释\n",
    "第四个注释\n",
    "'''\n",
    "\"\"\"\n",
    "第五个注释\n",
    "第六个注释\n",
    "\"\"\"\n",
    "print(\"Hello, pudata.com!\")\n"
   ]
  },
  {
   "cell_type": "markdown",
   "metadata": {},
   "source": [
    "### 行与缩进（要求非常严格！）\n",
    "python最具特色的就是使用缩进来表示代码块，不需要使用大括号 {} 。  \n",
    "缩进的空格数是可变的，但是同一个代码块的语句必须包含相同的缩进空格数。实例如下："
   ]
  },
  {
   "cell_type": "code",
   "execution_count": null,
   "metadata": {},
   "outputs": [],
   "source": [
    "#python 不接受的写法\n",
    "if (1>2){print('>')}\n",
    "else{print('<')}"
   ]
  },
  {
   "cell_type": "code",
   "execution_count": 10,
   "metadata": {},
   "outputs": [
    {
     "name": "stdout",
     "output_type": "stream",
     "text": [
      "Answer\n",
      "True\n"
     ]
    }
   ],
   "source": [
    "#python写法\n",
    "if True:\n",
    "    print (\"Answer\")\n",
    "    print (\"True\")\n",
    "else:\n",
    "    print (\"Answer\")\n",
    "    print (\"False\") "
   ]
  },
  {
   "cell_type": "markdown",
   "metadata": {},
   "source": [
    "### 基本数据类型\n",
    "\n",
    "#### 数值型(numeric)\n",
    "int (整数), 如 1, 只有一种整数类型 int。    \n",
    "float (浮点数), 如 1.23、3E-2  \n",
    "complex (复数), 如 1 + 2j、 1.1 + 2.2j"
   ]
  },
  {
   "cell_type": "code",
   "execution_count": 11,
   "metadata": {},
   "outputs": [
    {
     "name": "stdout",
     "output_type": "stream",
     "text": [
      "<class 'int'>\n"
     ]
    }
   ],
   "source": [
    "x = 3\n",
    "print(type(x)) #查看变量类型"
   ]
  },
  {
   "cell_type": "markdown",
   "metadata": {},
   "source": [
    "### 运算符\n",
    "* 算术运算符  \n",
    "\n",
    "| 运算符 | 描述 | 实例 | \n",
    "| - | - | - | \n",
    "| + | 加 | 两个对象相加 a + b 输出结果 30 | \n",
    "| - | 减 | 得到负数或是一个数减去另一个数 a - b 输出结果 -10 | \n",
    "| * | 乘 | 两个数相乘或是返回一个被重复若干次的字符串 a * b 输出结果 200 | \n",
    "| / | 除 | x除以y b / a 输出结果 2 | \n",
    "| // | 取整除| 返回商的整数部分 9//2 输出结果 4 , 9.0//2.0 输出结果 4.0 | \n",
    "| % | 取余| 返回除法的余数 b % a 输出结果 0 | \n",
    "| ** | 幂 | 返回x的y次幂 a**b 为10的20次方， 输出结果 100000000000000000000 |\n",
    "\n",
    "* 复合赋值运算符\n",
    "\n",
    "| 运算符 | 描述 | 实例 | \n",
    "| - | - | - | \n",
    "| += | 加法赋值运算符 | c += a 等效于 c = c + a | \n",
    "| -= | 减法赋值运算符 | c -= a 等效于 c = c - a | \n",
    "| *= | 乘法赋值运算符 | c *= a 等效于 c = c * a | \n",
    "| /= | 除法赋值运算符 | c /= a 等效于 c = c / a | \n",
    "| %= | 取模赋值运算符| c %= a 等效于 c = c % a | \n",
    "| **= | 幂赋值运算符 | 返c **= a 等效于 c = c ** a |\n",
    "| //= | 取整除赋值运算符| c //= a 等效于 c = c // a | \n"
   ]
  },
  {
   "cell_type": "markdown",
   "metadata": {},
   "source": [
    "【课堂练习】：使用上述运算符进行简单的数字运算练习"
   ]
  },
  {
   "cell_type": "code",
   "execution_count": 12,
   "metadata": {},
   "outputs": [
    {
     "name": "stdout",
     "output_type": "stream",
     "text": [
      "11\n"
     ]
    }
   ],
   "source": [
    "i = 10\n",
    "i=i+1\n",
    "print(i)"
   ]
  },
  {
   "cell_type": "markdown",
   "metadata": {},
   "source": [
    "提示：Python不支持x++、x--操作  \n",
    "\n",
    "数值类型详细信息参见官方文档[documentation](https://docs.python.org/3/library/stdtypes.html#numeric-types-int-float-long-complex)."
   ]
  },
  {
   "cell_type": "markdown",
   "metadata": {},
   "source": [
    "#### 布尔型(bool)\n",
    "用于逻辑运算，只有True和False两个值"
   ]
  },
  {
   "cell_type": "code",
   "execution_count": 13,
   "metadata": {},
   "outputs": [
    {
     "name": "stdout",
     "output_type": "stream",
     "text": [
      "False\n",
      "True\n",
      "False\n",
      "True\n"
     ]
    }
   ],
   "source": [
    "#t, f = True, False\n",
    "t= True\n",
    "f= False\n",
    "\n",
    "print(t and f) # Logical AND;\n",
    "print(t or f)  # Logical OR;\n",
    "print(not t)   # Logical NOT;\n",
    "print(t != f)  # Logical XOR;"
   ]
  },
  {
   "cell_type": "code",
   "execution_count": 14,
   "metadata": {},
   "outputs": [
    {
     "name": "stdout",
     "output_type": "stream",
     "text": [
      "i= False\n",
      "<\n"
     ]
    }
   ],
   "source": [
    "i = 1>2\n",
    "print('i=',i)\n",
    "if 1>2 :\n",
    "    print('>')\n",
    "else:    \n",
    "    print('<')"
   ]
  },
  {
   "cell_type": "markdown",
   "metadata": {},
   "source": [
    "#### 字符串(Strings)\n",
    "* python中单引号和双引号使用完全相同  \n",
    "* 使用三引号('''或\"\"\")可以指定一个多行字符串  \n",
    "* 反斜杠可以用来转义，使用r可以让反斜杠不发生转义。 如 r\"this is a line with \\n\" 则\\n会显示，并不是换行  \n",
    "* 字符串可以用 + 运算符连接在一起，用 * 运算符重复  \n",
    "* Python中的字符串不能改变  \n",
    "* Python 没有单独的字符类型，一个字符就是长度为 1 的字符串  "
   ]
  },
  {
   "cell_type": "code",
   "execution_count": 15,
   "metadata": {},
   "outputs": [
    {
     "name": "stdout",
     "output_type": "stream",
     "text": [
      "hello 5\n"
     ]
    }
   ],
   "source": [
    "hello = 'hello'   # String literals can use single quotes\n",
    "world = \"world\"   # or double quotes; it does not matter.\n",
    "print(hello, len(hello))"
   ]
  },
  {
   "cell_type": "markdown",
   "metadata": {},
   "source": [
    "字符串常用操作"
   ]
  },
  {
   "cell_type": "code",
   "execution_count": 18,
   "metadata": {},
   "outputs": [
    {
     "name": "stdout",
     "output_type": "stream",
     "text": [
      "Hello\n",
      "HELLO\n",
      "  hello\n",
      " hello \n",
      "he(ell)(ell)o\n",
      "world\n"
     ]
    }
   ],
   "source": [
    "s = \"hello\"\n",
    "print(s.capitalize())  # Capitalize a string; prints \"Hello\"\n",
    "print(s.upper())       # Convert a string to uppercase; prints \"HELLO\"\n",
    "print(s.rjust(7))      # Right-justify a string, padding with spaces; prints \"  hello\"\n",
    "print(s.center(7))     # Center a string, padding with spaces; prints \" hello \"\n",
    "print(s.replace('l', '(ell)'))  # Replace all instances of one substring with another;\n",
    "                               # prints \"he(ell)(ell)o\"\n",
    "print ('world '.strip())  # Strip leading and trailing whitespace; prints \"world\""
   ]
  },
  {
   "cell_type": "markdown",
   "metadata": {},
   "source": [
    "更多字符串操作参见官方文档[documentation](https://docs.python.org/3/library/stdtypes.html#string-methods)."
   ]
  },
  {
   "cell_type": "markdown",
   "metadata": {},
   "source": [
    "字符串的截取（也称切块）的语法格式如下：变量[头下标:尾下标]  \n",
    "Python 中的字符串有两种索引方式，从左往右以 0 开始，从右往左以 -1 开始  \n",
    "例如：print(str[2:5]) # 从第3个开始到第5个的字符\n",
    "\n",
    "【课堂练习】：对字符串进行截取操作"
   ]
  },
  {
   "cell_type": "code",
   "execution_count": 19,
   "metadata": {
    "scrolled": true
   },
   "outputs": [
    {
     "name": "stdout",
     "output_type": "stream",
     "text": [
      "this \n",
      "do\n",
      "god\n",
      "god a si siht\n",
      "god\n"
     ]
    }
   ],
   "source": [
    "str=\"this is a dog\"\n",
    "print(str[0:5])    #从前往后取，0到4位置的5个值\n",
    "print(str[-3:-1])    #从前往后取，位置用负号表示，-3到-2位置的两个值\n",
    "print(str[:-4:-1])  #从后往前取，-1位置到-3的位置 ,该方法可放弃\n",
    "print(str[::-1])    #字符串整体取反\n",
    "print(str[-3:][::-1]) #建议用这种方式做局部取反，即先从前往后取，结果再整体取反，比较好理解"
   ]
  },
  {
   "cell_type": "markdown",
   "metadata": {},
   "source": [
    "###  容器类型(Containers)"
   ]
  },
  {
   "cell_type": "markdown",
   "metadata": {},
   "source": [
    " Python容器类型包括: lists, dictionaries, sets, and tuples."
   ]
  },
  {
   "cell_type": "markdown",
   "metadata": {},
   "source": [
    "#### 列表(Lists)\n",
    "差不多相当于数组，可包含多种类型的元素，可以改变大小  \n",
    "列表可以完成大多数集合类的数据结构实现。它支持字符，数字，字符串甚至可以包含列表（所谓嵌套）  \n",
    "列表定义形式：xs = [3, 1, 2]\n",
    "列表中的值得分割也可以用到变量[头下标:尾下标]，就可以截取相应的列表，从左到右索引默认0开始的，从右到左索引默认-1开始，下标可以为空表示取到头或尾。  \n",
    "加号（+）是列表连接运算符，星号（*）是重复操作\n",
    "\n",
    "【课堂练习】：对列表进行，进行del、append、reverse、pop等常用操作\n",
    "\n",
    "\n",
    "更多操作参见官网 [documentation](https://docs.python.org/3/tutorial/datastructures.html#more-on-lists)."
   ]
  },
  {
   "cell_type": "code",
   "execution_count": 21,
   "metadata": {},
   "outputs": [
    {
     "name": "stdout",
     "output_type": "stream",
     "text": [
      "dog\n",
      "cat\n"
     ]
    }
   ],
   "source": [
    "animals = ['cat', 'pig','dog', 'monkey']\n",
    "animals.sort(reverse=True) #反向排序，不加参数默认是正向排序\n",
    "animals.append(\"elephant\")  #插入数据\n",
    "animals.remove(\"pig\") #移除某值\n",
    "del animals[0] #删除某个位置的值\n",
    "elephant = animals.pop() #返回并删除最后一个值\n",
    "for animal in animals:\n",
    "    print(animal)"
   ]
  },
  {
   "cell_type": "markdown",
   "metadata": {},
   "source": [
    "【课堂练习】：给定列表[0,1,2,3,4,5],生成列表，对每个值进行平方"
   ]
  },
  {
   "cell_type": "code",
   "execution_count": 22,
   "metadata": {},
   "outputs": [
    {
     "name": "stdout",
     "output_type": "stream",
     "text": [
      "2\n"
     ]
    }
   ],
   "source": [
    "alist = [0,1,2,3,4,5,5]\n",
    "print(alist[2])"
   ]
  },
  {
   "cell_type": "code",
   "execution_count": 23,
   "metadata": {},
   "outputs": [
    {
     "name": "stdout",
     "output_type": "stream",
     "text": [
      "[ 0  1  4  9 16 25]\n"
     ]
    }
   ],
   "source": [
    "import numpy as np\n",
    "l1 = [0,1,2,3,4,5]\n",
    "l2 = np.square(l1)\n",
    "print(l2)\n"
   ]
  },
  {
   "cell_type": "markdown",
   "metadata": {},
   "source": [
    "#### 元组(Tuple)\n",
    "元组是另一个数据类型，类似于List（列表）。  \n",
    "元组用\"()\"标识。内部元素用逗号隔开。但是元素不能二次赋值，相当于只读列表。  \n",
    "元组不允许更新  \n",
    "示例：tuple = ( 'Tom','Mike' ,3,39.9 )  \n",
    "\n",
    "更多操作参见官网 [documentation](https://docs.python.org/3/tutorial/datastructures.html#tuples-and-sequences)."
   ]
  },
  {
   "cell_type": "markdown",
   "metadata": {},
   "source": [
    "#### 字典(Dictionaries)\n",
    "字典(dictionary)是除列表以外python之中最灵活的内置数据结构类型。列表是有序的对象集合，字典是无序的对象集合。  \n",
    "两者之间的区别在于：字典当中的元素是通过键来存取的，而不是通过偏移存取。  \n",
    "字典用\"{ }\"标识。字典由索引(key)和它对应的值value组成。  \n",
    "字典的每个键值(key=>value)对用冒号(:)分割，每个对之间用逗号(,)分割，整个字典包括在花括号({})中 ,格式如下所示：  \n",
    "d = {key1 : value1, key2 : value2 }  \n",
    "键必须是唯一的，但值则不必。"
   ]
  },
  {
   "cell_type": "code",
   "execution_count": 24,
   "metadata": {
    "scrolled": true
   },
   "outputs": [
    {
     "name": "stdout",
     "output_type": "stream",
     "text": [
      "cute\n",
      "True\n"
     ]
    }
   ],
   "source": [
    "d = {'cat': 'cute', 'dog': 'furry'}  # Create a new dictionary with some data\n",
    "print(d['cat'])       # Get an entry from a dictionary; prints \"cute\"\n",
    "print('cat' in d)     # Check if a dictionary has a given key; prints \"True\""
   ]
  },
  {
   "cell_type": "markdown",
   "metadata": {},
   "source": [
    "【课堂练习】：对字典元素进行修改与删除操作  \n",
    "更多操作参见 [documentation](https://docs.python.org/3/library/stdtypes.html#dict)."
   ]
  },
  {
   "cell_type": "markdown",
   "metadata": {},
   "source": [
    "#### 集合(Sets)\n",
    "无序不重复元素的序列。  \n",
    "可以使用大括号 { } 或者 set() 函数创建集合，注意：创建一个空集合必须用 set() 而不是 { }，因为 { } 是用来创建一个空字典。  \n",
    "parame = {value01,value02,...}  \n",
    "或者 set(value)  \n",
    "【思考】下列代码返回结果是什么？  \n",
    "`  \n",
    "animals = {'cat', 'dog','pig'}\n",
    "print(animals[0])\n",
    "`  \n",
    "          \n",
    "【课堂练习】对集合进行add、remove、union、intersection、difference等常规操作    \n",
    "\n",
    "【思考】下列代码返回结果是什么？  \n",
    "`\n",
    "from math import sqrt\n",
    "print({int(sqrt(x)) for x in range(30)})\n",
    "`    \n",
    " \n",
    "  \n",
    "更多操作参见 [documentation](https://docs.python.org/3/library/stdtypes.html#set-types-set-frozenset)."
   ]
  },
  {
   "cell_type": "code",
   "execution_count": 33,
   "metadata": {},
   "outputs": [
    {
     "name": "stdout",
     "output_type": "stream",
     "text": [
      "{'pig', 'cat', 'dog'}\n"
     ]
    }
   ],
   "source": [
    "animals = {'cat', 'dog','pig','dog'}\n",
    "print(animals)"
   ]
  },
  {
   "cell_type": "code",
   "execution_count": 34,
   "metadata": {},
   "outputs": [
    {
     "name": "stdout",
     "output_type": "stream",
     "text": [
      "{'monky', 'elephant', 'cat', 'dog'}\n",
      "{'elephant', 'pig', 'monky'}\n",
      "{'pig'}\n"
     ]
    }
   ],
   "source": [
    "a = {'cat', 'dog','pig','dog'}\n",
    "b = {'cat', 'dog','monky','elephant'}\n",
    "\n",
    "#等价\n",
    "c = a.intersection(b)\n",
    "c= a and b\n",
    "print(c)\n",
    "\n",
    "#等价\n",
    "a.symmetric_difference\n",
    "d = a ^ b\n",
    "print(d)\n",
    "\n",
    "#等价\n",
    "e=a.difference(b)\n",
    "e=a-b\n",
    "print(e)"
   ]
  },
  {
   "cell_type": "markdown",
   "metadata": {},
   "source": [
    "### 函数"
   ]
  },
  {
   "cell_type": "markdown",
   "metadata": {},
   "source": [
    "Python函数用关键字`def`定义，例如:"
   ]
  },
  {
   "cell_type": "code",
   "execution_count": 35,
   "metadata": {},
   "outputs": [
    {
     "name": "stdout",
     "output_type": "stream",
     "text": [
      "<class 'str'> negative\n",
      "<class 'int'> 0\n",
      "<class 'str'> positive\n"
     ]
    }
   ],
   "source": [
    "# 返回结果可以是不同类型\n",
    "def sign(x):\n",
    "    if x > 0:\n",
    "        return 'positive'\n",
    "    elif x < 0:\n",
    "        return 'negative'\n",
    "    else:\n",
    "        return 0\n",
    "\n",
    "for x in [-1, 0, 1]:\n",
    "    print(type(sign(x)),sign(x))"
   ]
  },
  {
   "cell_type": "markdown",
   "metadata": {},
   "source": [
    "【课堂练习】定义一个函数max，功能是求两个参数中较大的一个"
   ]
  },
  {
   "cell_type": "code",
   "execution_count": 36,
   "metadata": {},
   "outputs": [
    {
     "name": "stdout",
     "output_type": "stream",
     "text": [
      "7\n"
     ]
    }
   ],
   "source": [
    "def max(x,y):\n",
    "    if x>y:\n",
    "        return x\n",
    "    else:\n",
    "        return y\n",
    "\n",
    "print(max(2,7))"
   ]
  },
  {
   "cell_type": "code",
   "execution_count": 37,
   "metadata": {},
   "outputs": [
    {
     "name": "stdout",
     "output_type": "stream",
     "text": [
      "9\n",
      "HelloWorld\n"
     ]
    }
   ],
   "source": [
    "# 参数也可以是不同类型的\n",
    "def add(x,y):\n",
    "    return x + y\n",
    "\n",
    "print(add(2,7))\n",
    "print(add(\"Hello\",\"World\"))"
   ]
  },
  {
   "cell_type": "markdown",
   "metadata": {},
   "source": [
    "## if条件语句"
   ]
  },
  {
   "cell_type": "code",
   "execution_count": 38,
   "metadata": {},
   "outputs": [
    {
     "name": "stdout",
     "output_type": "stream",
     "text": [
      "相当于 22 岁的人。\n"
     ]
    }
   ],
   "source": [
    "dogage=2\n",
    "if dogage < 0:\n",
    "    print(\"你是在逗我吧!\")\n",
    "elif dogage == 1:\n",
    "    print(\"相当于 14 岁的人。\")\n",
    "elif dogage == 2:\n",
    "    print(\"相当于 22 岁的人。\")\n",
    "elif dogage > 2:\n",
    "    human = 22 + (age -2)*5\n",
    "    print(\"对应人类年龄: \", human) "
   ]
  },
  {
   "cell_type": "markdown",
   "metadata": {},
   "source": [
    "### While循环"
   ]
  },
  {
   "cell_type": "markdown",
   "metadata": {},
   "source": [
    "while 判断条件：  \n",
    "&nbsp;&nbsp;&nbsp;&nbsp;语句"
   ]
  },
  {
   "cell_type": "markdown",
   "metadata": {},
   "source": [
    "【课堂练习】使用While循环计算1到100之间整数之和"
   ]
  },
  {
   "cell_type": "code",
   "execution_count": 39,
   "metadata": {},
   "outputs": [
    {
     "name": "stdout",
     "output_type": "stream",
     "text": [
      "5050\n"
     ]
    }
   ],
   "source": [
    "i =0\n",
    "result =0\n",
    "while i<=100:\n",
    "    result = result + i\n",
    "    i=i+1\n",
    "\n",
    "print(result)"
   ]
  },
  {
   "cell_type": "markdown",
   "metadata": {},
   "source": [
    "## for语句"
   ]
  },
  {
   "cell_type": "code",
   "execution_count": 40,
   "metadata": {},
   "outputs": [
    {
     "name": "stdout",
     "output_type": "stream",
     "text": [
      "C\n",
      "C++\n",
      "Perl\n",
      "Python\n"
     ]
    }
   ],
   "source": [
    "languages = [\"C\", \"C++\", \"Perl\", \"Python\"] \n",
    "for x in languages:\n",
    "    print (x)"
   ]
  },
  {
   "cell_type": "markdown",
   "metadata": {},
   "source": [
    "## 文件操作\n",
    "###  f.read()\n",
    "将读取一定数目的数据, 然后作为字符串或字节对象返回。  \n",
    "size 是一个可选的数字类型的参数。 当 size 被忽略了或者为负, 那么该文件的所有内容都将被读取并且返回。"
   ]
  },
  {
   "cell_type": "code",
   "execution_count": 42,
   "metadata": {},
   "outputs": [
    {
     "name": "stdout",
     "output_type": "stream",
     "text": [
      "asdf\n"
     ]
    }
   ],
   "source": [
    "# 打开一个文件\n",
    "f = open(\"d:/ai/abc.txt\", \"r\")  #rw w+\n",
    "\n",
    "#print(type(f))\n",
    "str = f.read()\n",
    "print(str)\n",
    "\n",
    "# 关闭打开的文件\n",
    "f.close()"
   ]
  },
  {
   "cell_type": "markdown",
   "metadata": {},
   "source": [
    "### f.readline()\n",
    "从文件中读取单独的一行。换行符为 '\\n'。f.readline() 如果返回一个空字符串, 说明已经已经读取到最后一行。"
   ]
  },
  {
   "cell_type": "markdown",
   "metadata": {},
   "source": [
    "### f.readlines()\n",
    "返回该文件中包含的所有行。  \n",
    "如果设置可选参数 sizehint, 则读取指定长度的字节, 并且将这些字节按行分割。"
   ]
  },
  {
   "cell_type": "markdown",
   "metadata": {},
   "source": [
    "### f.write()\n",
    "f.write(string) 将 string 写入到文件中, 然后返回写入的字符数"
   ]
  },
  {
   "cell_type": "code",
   "execution_count": 18,
   "metadata": {},
   "outputs": [
    {
     "name": "stdout",
     "output_type": "stream",
     "text": [
      "23\n"
     ]
    }
   ],
   "source": [
    "# 打开一个文件\n",
    "f = open(\"d:/ai/newfile.txt\", \"w+\")\n",
    "num = f.write( \"Python 是一个很好语言。\\n易学易用!!\\n\" )\n",
    "print(num)\n",
    "# 关闭打开的文件\n",
    "f.close()"
   ]
  },
  {
   "cell_type": "markdown",
   "metadata": {},
   "source": [
    "## Python模块\n",
    "* 模块用于有逻辑地组织Python代码段。  \n",
    "* 把相关的代码分配到一个 模块里能让你的代码更好用，更易懂。  \n",
    "* 模块也是Python对象，具有随机的名字属性用来绑定或引用。  \n",
    "* 模块能定义函数，类和变量。模块里也能包含可执行的代码。"
   ]
  },
  {
   "cell_type": "markdown",
   "metadata": {},
   "source": [
    "### import 语句\n",
    "想使用Python源文件，只需在另一个源文件里执行import语句，语法如下：  \n",
    "\n",
    "import module1[, module2[,... moduleN]\n",
    "### From…import 语句\n",
    "Python的from语句让你从模块中导入一个指定的部分到当前命名空间中。语法如下：  \n",
    "\n",
    "from modname import name1[, name2[, ... nameN]]\n",
    "### dir()函数\n",
    "dir()函数一个排好序的字符串列表，内容是一个模块里定义过的名字。  \n",
    "\n",
    "返回的列表容纳了在一个模块里定义的所有模块，变量和函数"
   ]
  },
  {
   "cell_type": "code",
   "execution_count": null,
   "metadata": {},
   "outputs": [],
   "source": [
    "import numpy as np\n",
    "for i in np.linspace(1,10,20):\n",
    "    print(i)"
   ]
  },
  {
   "cell_type": "code",
   "execution_count": 44,
   "metadata": {},
   "outputs": [
    {
     "name": "stdout",
     "output_type": "stream",
     "text": [
      "3.141592653589793\n"
     ]
    }
   ],
   "source": [
    "import numpy as np\n",
    "#dir(np)\n",
    "np.sqrt(10)\n",
    "\n",
    "print(np.pi)"
   ]
  },
  {
   "cell_type": "code",
   "execution_count": 45,
   "metadata": {},
   "outputs": [
    {
     "data": {
      "text/plain": [
       "3.1622776601683795"
      ]
     },
     "execution_count": 45,
     "metadata": {},
     "output_type": "execute_result"
    }
   ],
   "source": [
    "from numpy import sqrt\n",
    "sqrt(10)"
   ]
  }
 ],
 "metadata": {
  "kernelspec": {
   "display_name": "Python 3",
   "language": "python",
   "name": "python3"
  },
  "language_info": {
   "codemirror_mode": {
    "name": "ipython",
    "version": 3
   },
   "file_extension": ".py",
   "mimetype": "text/x-python",
   "name": "python",
   "nbconvert_exporter": "python",
   "pygments_lexer": "ipython3",
   "version": "3.7.0"
  }
 },
 "nbformat": 4,
 "nbformat_minor": 1
}
