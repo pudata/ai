{
 "cells": [
  {
   "cell_type": "markdown",
   "metadata": {},
   "source": [
    "# Pandas基础\n",
    "\n",
    "### 面授班讲义  by 杨庆跃\n",
    "请安装最新版本Jupyter notebook进行编程实验"
   ]
  },
  {
   "cell_type": "markdown",
   "metadata": {},
   "source": [
    "## 关于Pandas"
   ]
  },
  {
   "cell_type": "markdown",
   "metadata": {},
   "source": [
    "Pandas(Python Data Analysis Library)是基于NumPy的数据分析工具。  \n",
    "Pandas纳入了大量库和一些标准的数据模型，提供了大量高效便捷地处理数据的函数和方法。     \n",
    "Pandas目前已成为Python语言里最强大的数据分析工具包\n",
    "\n",
    "Pandas官网 [访问之](http://pandas.pydata.org/)"
   ]
  },
  {
   "cell_type": "markdown",
   "metadata": {},
   "source": [
    "## Pandas中的数据结构\n",
    "- Series：一维数组，与Numpy中的一维array类似。二者与Python基本的数据结构List也很相近。Series能保存不同数据类型，字符串、boolean值、数字等\n",
    "- Time- Series：以时间为索引的Series\n",
    "- DataFrame：二维的表格型数据结构。很多功能与R中的data.frame类似。可以将DataFrame理解为Series的容器。以下的内容主要以DataFrame为主。\n",
    "- Panel(了解即可，本课程不介绍)：三维的数组，可以理解为DataFrame的容器。"
   ]
  },
  {
   "cell_type": "markdown",
   "metadata": {},
   "source": [
    "使用Pandas前首先引入pandas包:    "
   ]
  },
  {
   "cell_type": "code",
   "execution_count": 2,
   "metadata": {},
   "outputs": [],
   "source": [
    "import pandas as pd\n",
    "import numpy as np\n",
    "pd.set_option(\"max_columns\", 50)"
   ]
  },
  {
   "cell_type": "markdown",
   "metadata": {},
   "source": [
    "## Series"
   ]
  },
  {
   "cell_type": "markdown",
   "metadata": {},
   "source": [
    "Series是一个一维的类似数组对象，它包含一个数组数据（任何numpy数据类型）和一个与数组关联的索引。为了方便理解，你可以把Series看成是一个有序字典。其中索引是连续的，从0开始。"
   ]
  },
  {
   "cell_type": "code",
   "execution_count": 2,
   "metadata": {},
   "outputs": [
    {
     "name": "stdout",
     "output_type": "stream",
     "text": [
      "<class 'pandas.core.series.Series'>\n",
      "0    cat\n",
      "1    dog\n",
      "2    pig\n",
      "dtype: object\n"
     ]
    }
   ],
   "source": [
    "series = pd.Series([\"cat\", \"dog\", \"pig\"])\n",
    "print(type(series))\n",
    "print(series)"
   ]
  },
  {
   "cell_type": "markdown",
   "metadata": {},
   "source": [
    "默认Index是0开始的整数，可以指定Index"
   ]
  },
  {
   "cell_type": "code",
   "execution_count": 3,
   "metadata": {},
   "outputs": [
    {
     "name": "stdout",
     "output_type": "stream",
     "text": [
      "a    cat\n",
      "b    NaN\n",
      "c    dog\n",
      "d    pig\n",
      "dtype: object\n"
     ]
    }
   ],
   "source": [
    "series = pd.Series([\"cat\", np.nan,\"dog\", \"pig\"],index=['a','b','c','d'])\n",
    "print(series)"
   ]
  },
  {
   "cell_type": "markdown",
   "metadata": {},
   "source": [
    "可以使用 series.values和series.index 来获取元素和相应的索引。"
   ]
  },
  {
   "cell_type": "code",
   "execution_count": 4,
   "metadata": {},
   "outputs": [
    {
     "name": "stdout",
     "output_type": "stream",
     "text": [
      "['cat' nan 'dog' 'pig']\n",
      "Index(['a', 'b', 'c', 'd'], dtype='object')\n"
     ]
    }
   ],
   "source": [
    "print(series.values)\n",
    "print(series.index)"
   ]
  },
  {
   "cell_type": "markdown",
   "metadata": {},
   "source": [
    "使用索引访问元素"
   ]
  },
  {
   "cell_type": "code",
   "execution_count": 5,
   "metadata": {},
   "outputs": [
    {
     "name": "stdout",
     "output_type": "stream",
     "text": [
      "cat\n",
      "cat\n",
      "a    cat\n",
      "b    NaN\n",
      "c    dog\n",
      "dtype: object\n"
     ]
    }
   ],
   "source": [
    "print(series[0])\n",
    "print(series['a']) #series.a也可以\n",
    "print(series['a':'c'])"
   ]
  },
  {
   "cell_type": "markdown",
   "metadata": {},
   "source": [
    "【思考】如何只取得第1和第3个值？  "
   ]
  },
  {
   "cell_type": "code",
   "execution_count": 6,
   "metadata": {},
   "outputs": [
    {
     "data": {
      "text/plain": [
       "a    cat\n",
       "c    dog\n",
       "dtype: object"
      ]
     },
     "execution_count": 6,
     "metadata": {},
     "output_type": "execute_result"
    }
   ],
   "source": [
    "series[[0,2]]\n",
    "series[['a','c']] # 注意两层[]\n",
    "# series[['a','b','c']] 等价于 series['a':'c']"
   ]
  },
  {
   "cell_type": "markdown",
   "metadata": {},
   "source": [
    "可以用Series对象去和一些值进行比较，实际处理时会使用每个元素去与该值进行比较，比较后的结果也是一个Series对象"
   ]
  },
  {
   "cell_type": "code",
   "execution_count": 7,
   "metadata": {},
   "outputs": [
    {
     "name": "stdout",
     "output_type": "stream",
     "text": [
      "0    False\n",
      "1    False\n",
      "2    False\n",
      "3    False\n",
      "4     True\n",
      "dtype: bool\n"
     ]
    }
   ],
   "source": [
    "series2 = pd.Series(np.arange(0,5))\n",
    "series3 = series2 > 3  \n",
    "print(series3)"
   ]
  },
  {
   "cell_type": "code",
   "execution_count": 8,
   "metadata": {},
   "outputs": [
    {
     "data": {
      "text/plain": [
       "a     True\n",
       "b    False\n",
       "c    False\n",
       "d    False\n",
       "dtype: bool"
      ]
     },
     "execution_count": 8,
     "metadata": {},
     "output_type": "execute_result"
    }
   ],
   "source": [
    "series=='cat'"
   ]
  },
  {
   "cell_type": "markdown",
   "metadata": {},
   "source": [
    "使用dictionary构造Series"
   ]
  },
  {
   "cell_type": "code",
   "execution_count": 9,
   "metadata": {},
   "outputs": [
    {
     "data": {
      "text/plain": [
       "a    0.0\n",
       "b    1.0\n",
       "c    2.0\n",
       "dtype: float64"
      ]
     },
     "execution_count": 9,
     "metadata": {},
     "output_type": "execute_result"
    }
   ],
   "source": [
    "data = {'a' : 0., 'b' : 1., 'c' : 2.}\n",
    "s = pd.Series(data)\n",
    "s"
   ]
  },
  {
   "cell_type": "markdown",
   "metadata": {},
   "source": [
    "【课堂练习】使用isnull和notnull函数查看Series中是否有确实数据"
   ]
  },
  {
   "cell_type": "code",
   "execution_count": 10,
   "metadata": {},
   "outputs": [
    {
     "name": "stdout",
     "output_type": "stream",
     "text": [
      "0    False\n",
      "1    False\n",
      "2     True\n",
      "3    False\n",
      "dtype: bool\n",
      "0     True\n",
      "1     True\n",
      "2    False\n",
      "3     True\n",
      "dtype: bool\n"
     ]
    }
   ],
   "source": [
    "a = pd.Series([2, 4,np.nan,7])\n",
    "print(a.isnull())\n",
    "print(a.notnull())"
   ]
  },
  {
   "cell_type": "markdown",
   "metadata": {},
   "source": [
    "## DataFrame"
   ]
  },
  {
   "cell_type": "markdown",
   "metadata": {},
   "source": [
    "DataFrame表示一个表格，每一个列表都可以有不同的类型（数字，字符串，布尔等等）  \n",
    "DataFrame有行和列的索引；可以被看作是一个Series的容器（Series共享一个索引）  \n",
    "一个DataFrame相当于Excel表或者关系数据表，可进行各种操作"
   ]
  },
  {
   "cell_type": "markdown",
   "metadata": {},
   "source": [
    "### 多种方式创建DataFrame"
   ]
  },
  {
   "cell_type": "markdown",
   "metadata": {},
   "source": [
    "#### 使用字典创建DataFrame"
   ]
  },
  {
   "cell_type": "code",
   "execution_count": 3,
   "metadata": {},
   "outputs": [
    {
     "data": {
      "text/html": [
       "<div>\n",
       "<style scoped>\n",
       "    .dataframe tbody tr th:only-of-type {\n",
       "        vertical-align: middle;\n",
       "    }\n",
       "\n",
       "    .dataframe tbody tr th {\n",
       "        vertical-align: top;\n",
       "    }\n",
       "\n",
       "    .dataframe thead th {\n",
       "        text-align: right;\n",
       "    }\n",
       "</style>\n",
       "<table border=\"1\" class=\"dataframe\">\n",
       "  <thead>\n",
       "    <tr style=\"text-align: right;\">\n",
       "      <th></th>\n",
       "      <th>name</th>\n",
       "      <th>sex</th>\n",
       "      <th>age</th>\n",
       "      <th>salary</th>\n",
       "    </tr>\n",
       "  </thead>\n",
       "  <tbody>\n",
       "    <tr>\n",
       "      <th>0</th>\n",
       "      <td>Jim</td>\n",
       "      <td>男</td>\n",
       "      <td>28</td>\n",
       "      <td>3500</td>\n",
       "    </tr>\n",
       "    <tr>\n",
       "      <th>1</th>\n",
       "      <td>Tom</td>\n",
       "      <td>男</td>\n",
       "      <td>37</td>\n",
       "      <td>4800</td>\n",
       "    </tr>\n",
       "    <tr>\n",
       "      <th>2</th>\n",
       "      <td>Mary</td>\n",
       "      <td>女</td>\n",
       "      <td>27</td>\n",
       "      <td>4500</td>\n",
       "    </tr>\n",
       "    <tr>\n",
       "      <th>3</th>\n",
       "      <td>Lily</td>\n",
       "      <td>女</td>\n",
       "      <td>34</td>\n",
       "      <td>3900</td>\n",
       "    </tr>\n",
       "  </tbody>\n",
       "</table>\n",
       "</div>"
      ],
      "text/plain": [
       "   name sex  age  salary\n",
       "0   Jim   男   28    3500\n",
       "1   Tom   男   37    4800\n",
       "2  Mary   女   27    4500\n",
       "3  Lily   女   34    3900"
      ]
     },
     "execution_count": 3,
     "metadata": {},
     "output_type": "execute_result"
    }
   ],
   "source": [
    "data = {\"name\": [\"Jim\", \"Tom\",\"Mary\",\"Lily\"],\n",
    "        \"sex\":['男','男','女','女'],\n",
    "        \"age\": [28,37,27,34],\n",
    "        \"salary\": [3500,4800,4500,3900]}\n",
    "dataFrame = pd.DataFrame(data)\n",
    "dataFrame"
   ]
  },
  {
   "cell_type": "markdown",
   "metadata": {},
   "source": [
    "【课堂练习】使用字典创建dataFrame，使用Index指定索引，columns指定列名。试试多指定一个columns值会怎样?"
   ]
  },
  {
   "cell_type": "code",
   "execution_count": 12,
   "metadata": {
    "scrolled": true
   },
   "outputs": [
    {
     "data": {
      "text/html": [
       "<div>\n",
       "<style scoped>\n",
       "    .dataframe tbody tr th:only-of-type {\n",
       "        vertical-align: middle;\n",
       "    }\n",
       "\n",
       "    .dataframe tbody tr th {\n",
       "        vertical-align: top;\n",
       "    }\n",
       "\n",
       "    .dataframe thead th {\n",
       "        text-align: right;\n",
       "    }\n",
       "</style>\n",
       "<table border=\"1\" class=\"dataframe\">\n",
       "  <thead>\n",
       "    <tr style=\"text-align: right;\">\n",
       "      <th></th>\n",
       "      <th>name</th>\n",
       "      <th>gender</th>\n",
       "      <th>age</th>\n",
       "      <th>wage</th>\n",
       "    </tr>\n",
       "  </thead>\n",
       "  <tbody>\n",
       "    <tr>\n",
       "      <th>a</th>\n",
       "      <td>Jim</td>\n",
       "      <td>男</td>\n",
       "      <td>28</td>\n",
       "      <td>3500</td>\n",
       "    </tr>\n",
       "    <tr>\n",
       "      <th>b</th>\n",
       "      <td>Tom</td>\n",
       "      <td>男</td>\n",
       "      <td>37</td>\n",
       "      <td>4800</td>\n",
       "    </tr>\n",
       "    <tr>\n",
       "      <th>c</th>\n",
       "      <td>Mary</td>\n",
       "      <td>女</td>\n",
       "      <td>27</td>\n",
       "      <td>4500</td>\n",
       "    </tr>\n",
       "    <tr>\n",
       "      <th>d</th>\n",
       "      <td>Lily</td>\n",
       "      <td>女</td>\n",
       "      <td>34</td>\n",
       "      <td>3900</td>\n",
       "    </tr>\n",
       "  </tbody>\n",
       "</table>\n",
       "</div>"
      ],
      "text/plain": [
       "   name gender  age  wage\n",
       "a   Jim      男   28  3500\n",
       "b   Tom      男   37  4800\n",
       "c  Mary      女   27  4500\n",
       "d  Lily      女   34  3900"
      ]
     },
     "execution_count": 12,
     "metadata": {},
     "output_type": "execute_result"
    }
   ],
   "source": [
    "dataFrame.index=['a','b','c','d'] #修改index\n",
    "dataFrame\n",
    "dataFrame.columns=['name','gender','age','salary'] #整体修改columns\n",
    "dataFrame.rename(columns={'sex':'gender','salary':'wage'}) #个别修改columns"
   ]
  },
  {
   "cell_type": "markdown",
   "metadata": {},
   "source": [
    "### DataFrame的访问\n",
    "可以直接按列、按行访问，也可以使用专用函数\n",
    "\n",
    "loc——通过行标签索引行数据   \n",
    "iloc——通过行号索引行数据   \n",
    "ix(不建议使用)——通过行标签或者行号索引行数据（基于loc和iloc 的混合）  \n",
    "at--定位某一个元素，列用标签  \n",
    "iat--定位某一个元素，列用数字\n",
    "\n",
    "【课堂练习】使用上述方法进行数据选择"
   ]
  },
  {
   "cell_type": "code",
   "execution_count": 13,
   "metadata": {
    "scrolled": true
   },
   "outputs": [
    {
     "name": "stdout",
     "output_type": "stream",
     "text": [
      "   name sex  age  salary\n",
      "a   Jim   男   28    3500\n",
      "b   Tom   男   37    4800\n",
      "c  Mary   女   27    4500\n",
      "d  Lily   女   34    3900\n",
      "   name sex  age  salary\n",
      "a   Jim   男   28    3500\n",
      "b   Tom   男   37    4800\n",
      "c  Mary   女   27    4500\n"
     ]
    }
   ],
   "source": [
    "import pandas as pd\n",
    "import numpy as np\n",
    "pd.set_option(\"max_columns\", 50)\n",
    "data = {\"name\": [\"Jim\", \"Tom\",\"Mary\",\"Lily\"],\n",
    "        \"sex\":['男','男','女','女'],\n",
    "        \"age\": [28,37,27,34],\n",
    "        \"salary\": [3500,4800,4500,3900]}\n",
    "dataFrame = pd.DataFrame(data,index=['a','b','c','d'])\n",
    "print(dataFrame)\n",
    "\n",
    "\n",
    "# 行、列只能都按标签取，或者都按位置取值\n",
    "# print(dataFrame.loc[['b','c'],[\"name\",\"age\"]])#按标签取\n",
    "print(dataFrame.iloc[[0,1,2]]) #按位置取 等价于 print(dataFrame.iloc[0:3])\n",
    "# print(dataFrame.at['b','salary']) #按标签取某个值\n",
    "# print(dataFrame.iat[1,3]) #按位置取某个值\n",
    "\n"
   ]
  },
  {
   "cell_type": "markdown",
   "metadata": {},
   "source": [
    "#### 插入一行数据"
   ]
  },
  {
   "cell_type": "code",
   "execution_count": 14,
   "metadata": {},
   "outputs": [
    {
     "data": {
      "text/html": [
       "<div>\n",
       "<style scoped>\n",
       "    .dataframe tbody tr th:only-of-type {\n",
       "        vertical-align: middle;\n",
       "    }\n",
       "\n",
       "    .dataframe tbody tr th {\n",
       "        vertical-align: top;\n",
       "    }\n",
       "\n",
       "    .dataframe thead th {\n",
       "        text-align: right;\n",
       "    }\n",
       "</style>\n",
       "<table border=\"1\" class=\"dataframe\">\n",
       "  <thead>\n",
       "    <tr style=\"text-align: right;\">\n",
       "      <th></th>\n",
       "      <th>name</th>\n",
       "      <th>sex</th>\n",
       "      <th>age</th>\n",
       "      <th>salary</th>\n",
       "    </tr>\n",
       "  </thead>\n",
       "  <tbody>\n",
       "    <tr>\n",
       "      <th>a</th>\n",
       "      <td>Jim</td>\n",
       "      <td>男</td>\n",
       "      <td>28</td>\n",
       "      <td>3500</td>\n",
       "    </tr>\n",
       "    <tr>\n",
       "      <th>b</th>\n",
       "      <td>Tom</td>\n",
       "      <td>男</td>\n",
       "      <td>37</td>\n",
       "      <td>4800</td>\n",
       "    </tr>\n",
       "    <tr>\n",
       "      <th>c</th>\n",
       "      <td>Mary</td>\n",
       "      <td>女</td>\n",
       "      <td>27</td>\n",
       "      <td>4500</td>\n",
       "    </tr>\n",
       "    <tr>\n",
       "      <th>d</th>\n",
       "      <td>Lily</td>\n",
       "      <td>女</td>\n",
       "      <td>34</td>\n",
       "      <td>3900</td>\n",
       "    </tr>\n",
       "    <tr>\n",
       "      <th>e</th>\n",
       "      <td>Joe</td>\n",
       "      <td>男</td>\n",
       "      <td>44</td>\n",
       "      <td>4500</td>\n",
       "    </tr>\n",
       "  </tbody>\n",
       "</table>\n",
       "</div>"
      ],
      "text/plain": [
       "   name sex  age  salary\n",
       "a   Jim   男   28    3500\n",
       "b   Tom   男   37    4800\n",
       "c  Mary   女   27    4500\n",
       "d  Lily   女   34    3900\n",
       "e   Joe   男   44    4500"
      ]
     },
     "execution_count": 14,
     "metadata": {},
     "output_type": "execute_result"
    }
   ],
   "source": [
    "dataFrame.loc['e'] = ['Joe','男',44,4500]\n",
    "dataFrame"
   ]
  },
  {
   "cell_type": "markdown",
   "metadata": {},
   "source": [
    "#### 插入一列数据"
   ]
  },
  {
   "cell_type": "code",
   "execution_count": 15,
   "metadata": {
    "scrolled": true
   },
   "outputs": [
    {
     "data": {
      "text/html": [
       "<div>\n",
       "<style scoped>\n",
       "    .dataframe tbody tr th:only-of-type {\n",
       "        vertical-align: middle;\n",
       "    }\n",
       "\n",
       "    .dataframe tbody tr th {\n",
       "        vertical-align: top;\n",
       "    }\n",
       "\n",
       "    .dataframe thead th {\n",
       "        text-align: right;\n",
       "    }\n",
       "</style>\n",
       "<table border=\"1\" class=\"dataframe\">\n",
       "  <thead>\n",
       "    <tr style=\"text-align: right;\">\n",
       "      <th></th>\n",
       "      <th>name</th>\n",
       "      <th>sex</th>\n",
       "      <th>age</th>\n",
       "      <th>salary</th>\n",
       "      <th>degree</th>\n",
       "    </tr>\n",
       "  </thead>\n",
       "  <tbody>\n",
       "    <tr>\n",
       "      <th>a</th>\n",
       "      <td>Jim</td>\n",
       "      <td>男</td>\n",
       "      <td>28</td>\n",
       "      <td>3500</td>\n",
       "      <td>A</td>\n",
       "    </tr>\n",
       "    <tr>\n",
       "      <th>b</th>\n",
       "      <td>Tom</td>\n",
       "      <td>男</td>\n",
       "      <td>37</td>\n",
       "      <td>4800</td>\n",
       "      <td>C</td>\n",
       "    </tr>\n",
       "    <tr>\n",
       "      <th>c</th>\n",
       "      <td>Mary</td>\n",
       "      <td>女</td>\n",
       "      <td>27</td>\n",
       "      <td>4500</td>\n",
       "      <td>D</td>\n",
       "    </tr>\n",
       "    <tr>\n",
       "      <th>d</th>\n",
       "      <td>Lily</td>\n",
       "      <td>女</td>\n",
       "      <td>34</td>\n",
       "      <td>3900</td>\n",
       "      <td>A</td>\n",
       "    </tr>\n",
       "    <tr>\n",
       "      <th>e</th>\n",
       "      <td>Joe</td>\n",
       "      <td>男</td>\n",
       "      <td>44</td>\n",
       "      <td>4500</td>\n",
       "      <td>C</td>\n",
       "    </tr>\n",
       "  </tbody>\n",
       "</table>\n",
       "</div>"
      ],
      "text/plain": [
       "   name sex  age  salary degree\n",
       "a   Jim   男   28    3500      A\n",
       "b   Tom   男   37    4800      C\n",
       "c  Mary   女   27    4500      D\n",
       "d  Lily   女   34    3900      A\n",
       "e   Joe   男   44    4500      C"
      ]
     },
     "execution_count": 15,
     "metadata": {},
     "output_type": "execute_result"
    }
   ],
   "source": [
    "dataFrame['degree']=['A','C','D','A','C']\n",
    "dataFrame"
   ]
  },
  {
   "cell_type": "code",
   "execution_count": 16,
   "metadata": {},
   "outputs": [
    {
     "data": {
      "text/html": [
       "<div>\n",
       "<style scoped>\n",
       "    .dataframe tbody tr th:only-of-type {\n",
       "        vertical-align: middle;\n",
       "    }\n",
       "\n",
       "    .dataframe tbody tr th {\n",
       "        vertical-align: top;\n",
       "    }\n",
       "\n",
       "    .dataframe thead th {\n",
       "        text-align: right;\n",
       "    }\n",
       "</style>\n",
       "<table border=\"1\" class=\"dataframe\">\n",
       "  <thead>\n",
       "    <tr style=\"text-align: right;\">\n",
       "      <th></th>\n",
       "      <th>name</th>\n",
       "      <th>sex</th>\n",
       "      <th>age</th>\n",
       "      <th>salary</th>\n",
       "      <th>degree</th>\n",
       "    </tr>\n",
       "  </thead>\n",
       "  <tbody>\n",
       "    <tr>\n",
       "      <th>a</th>\n",
       "      <td>Jim</td>\n",
       "      <td>男</td>\n",
       "      <td>28</td>\n",
       "      <td>3500</td>\n",
       "      <td>A</td>\n",
       "    </tr>\n",
       "    <tr>\n",
       "      <th>b</th>\n",
       "      <td>Tom</td>\n",
       "      <td>男</td>\n",
       "      <td>37</td>\n",
       "      <td>4800</td>\n",
       "      <td>C</td>\n",
       "    </tr>\n",
       "    <tr>\n",
       "      <th>c</th>\n",
       "      <td>Mary</td>\n",
       "      <td>女</td>\n",
       "      <td>27</td>\n",
       "      <td>4500</td>\n",
       "      <td>D</td>\n",
       "    </tr>\n",
       "    <tr>\n",
       "      <th>d</th>\n",
       "      <td>Lily</td>\n",
       "      <td>女</td>\n",
       "      <td>34</td>\n",
       "      <td>3900</td>\n",
       "      <td>A</td>\n",
       "    </tr>\n",
       "    <tr>\n",
       "      <th>e</th>\n",
       "      <td>Joe</td>\n",
       "      <td>男</td>\n",
       "      <td>44</td>\n",
       "      <td>4500</td>\n",
       "      <td>C</td>\n",
       "    </tr>\n",
       "  </tbody>\n",
       "</table>\n",
       "</div>"
      ],
      "text/plain": [
       "   name sex  age  salary degree\n",
       "a   Jim   男   28    3500      A\n",
       "b   Tom   男   37    4800      C\n",
       "c  Mary   女   27    4500      D\n",
       "d  Lily   女   34    3900      A\n",
       "e   Joe   男   44    4500      C"
      ]
     },
     "execution_count": 16,
     "metadata": {},
     "output_type": "execute_result"
    }
   ],
   "source": [
    "dataFrame"
   ]
  },
  {
   "cell_type": "markdown",
   "metadata": {},
   "source": [
    "使用index追加新列或修改列的内容时需注意：所有columns是按照index对齐的！  \n",
    "示例如下："
   ]
  },
  {
   "cell_type": "code",
   "execution_count": 17,
   "metadata": {},
   "outputs": [
    {
     "data": {
      "text/html": [
       "<div>\n",
       "<style scoped>\n",
       "    .dataframe tbody tr th:only-of-type {\n",
       "        vertical-align: middle;\n",
       "    }\n",
       "\n",
       "    .dataframe tbody tr th {\n",
       "        vertical-align: top;\n",
       "    }\n",
       "\n",
       "    .dataframe thead th {\n",
       "        text-align: right;\n",
       "    }\n",
       "</style>\n",
       "<table border=\"1\" class=\"dataframe\">\n",
       "  <thead>\n",
       "    <tr style=\"text-align: right;\">\n",
       "      <th></th>\n",
       "      <th>name</th>\n",
       "      <th>sex</th>\n",
       "      <th>age</th>\n",
       "      <th>salary</th>\n",
       "      <th>degree</th>\n",
       "      <th>arpu</th>\n",
       "    </tr>\n",
       "  </thead>\n",
       "  <tbody>\n",
       "    <tr>\n",
       "      <th>a</th>\n",
       "      <td>Jim</td>\n",
       "      <td>男</td>\n",
       "      <td>28</td>\n",
       "      <td>3500</td>\n",
       "      <td>A</td>\n",
       "      <td>NaN</td>\n",
       "    </tr>\n",
       "    <tr>\n",
       "      <th>b</th>\n",
       "      <td>Tom</td>\n",
       "      <td>男</td>\n",
       "      <td>37</td>\n",
       "      <td>4800</td>\n",
       "      <td>C</td>\n",
       "      <td>NaN</td>\n",
       "    </tr>\n",
       "    <tr>\n",
       "      <th>c</th>\n",
       "      <td>Mary</td>\n",
       "      <td>女</td>\n",
       "      <td>27</td>\n",
       "      <td>4500</td>\n",
       "      <td>D</td>\n",
       "      <td>NaN</td>\n",
       "    </tr>\n",
       "    <tr>\n",
       "      <th>d</th>\n",
       "      <td>Lily</td>\n",
       "      <td>女</td>\n",
       "      <td>34</td>\n",
       "      <td>3900</td>\n",
       "      <td>A</td>\n",
       "      <td>56.0</td>\n",
       "    </tr>\n",
       "    <tr>\n",
       "      <th>e</th>\n",
       "      <td>Joe</td>\n",
       "      <td>男</td>\n",
       "      <td>44</td>\n",
       "      <td>4500</td>\n",
       "      <td>C</td>\n",
       "      <td>45.8</td>\n",
       "    </tr>\n",
       "  </tbody>\n",
       "</table>\n",
       "</div>"
      ],
      "text/plain": [
       "   name sex  age  salary degree  arpu\n",
       "a   Jim   男   28    3500      A   NaN\n",
       "b   Tom   男   37    4800      C   NaN\n",
       "c  Mary   女   27    4500      D   NaN\n",
       "d  Lily   女   34    3900      A  56.0\n",
       "e   Joe   男   44    4500      C  45.8"
      ]
     },
     "execution_count": 17,
     "metadata": {},
     "output_type": "execute_result"
    }
   ],
   "source": [
    "series = pd.Series([56,45.8],index=['d','e'])\n",
    "dataFrame['arpu']=series\n",
    "dataFrame"
   ]
  },
  {
   "cell_type": "markdown",
   "metadata": {},
   "source": [
    "### 重新定义索引与索引恢复\n",
    "DataFrame可以通过set_index方法，可以设置单索引和复合索引  \n",
    "DataFrame.set_index(keys, drop=True, append=False, inplace=False, verify_integrity=False)     \n",
    "append添加新索引，drop为False，inplace为True时，索引将会还原为列     \n",
    "   \n",
    "reset_index可以还原索引，从新变为默认的整型索引   \n",
    "DataFrame.reset_index(level=None, drop=False, inplace=False, col_level=0, col_fill=”)   \n",
    "drop为False则索引列会被还原为普通列，否则会丢失  \n",
    "\n",
    "【课堂练习】把dataFrame的索引改为name列，之后恢复为默认整数索引"
   ]
  },
  {
   "cell_type": "code",
   "execution_count": 18,
   "metadata": {
    "scrolled": true
   },
   "outputs": [
    {
     "data": {
      "text/html": [
       "<div>\n",
       "<style scoped>\n",
       "    .dataframe tbody tr th:only-of-type {\n",
       "        vertical-align: middle;\n",
       "    }\n",
       "\n",
       "    .dataframe tbody tr th {\n",
       "        vertical-align: top;\n",
       "    }\n",
       "\n",
       "    .dataframe thead th {\n",
       "        text-align: right;\n",
       "    }\n",
       "</style>\n",
       "<table border=\"1\" class=\"dataframe\">\n",
       "  <thead>\n",
       "    <tr style=\"text-align: right;\">\n",
       "      <th></th>\n",
       "      <th>sex</th>\n",
       "      <th>age</th>\n",
       "      <th>salary</th>\n",
       "      <th>degree</th>\n",
       "      <th>arpu</th>\n",
       "    </tr>\n",
       "    <tr>\n",
       "      <th>name</th>\n",
       "      <th></th>\n",
       "      <th></th>\n",
       "      <th></th>\n",
       "      <th></th>\n",
       "      <th></th>\n",
       "    </tr>\n",
       "  </thead>\n",
       "  <tbody>\n",
       "    <tr>\n",
       "      <th>Jim</th>\n",
       "      <td>男</td>\n",
       "      <td>28</td>\n",
       "      <td>3500</td>\n",
       "      <td>A</td>\n",
       "      <td>NaN</td>\n",
       "    </tr>\n",
       "    <tr>\n",
       "      <th>Tom</th>\n",
       "      <td>男</td>\n",
       "      <td>37</td>\n",
       "      <td>4800</td>\n",
       "      <td>C</td>\n",
       "      <td>NaN</td>\n",
       "    </tr>\n",
       "    <tr>\n",
       "      <th>Mary</th>\n",
       "      <td>女</td>\n",
       "      <td>27</td>\n",
       "      <td>4500</td>\n",
       "      <td>D</td>\n",
       "      <td>NaN</td>\n",
       "    </tr>\n",
       "    <tr>\n",
       "      <th>Lily</th>\n",
       "      <td>女</td>\n",
       "      <td>34</td>\n",
       "      <td>3900</td>\n",
       "      <td>A</td>\n",
       "      <td>56.0</td>\n",
       "    </tr>\n",
       "    <tr>\n",
       "      <th>Joe</th>\n",
       "      <td>男</td>\n",
       "      <td>44</td>\n",
       "      <td>4500</td>\n",
       "      <td>C</td>\n",
       "      <td>45.8</td>\n",
       "    </tr>\n",
       "  </tbody>\n",
       "</table>\n",
       "</div>"
      ],
      "text/plain": [
       "     sex  age  salary degree  arpu\n",
       "name                              \n",
       "Jim    男   28    3500      A   NaN\n",
       "Tom    男   37    4800      C   NaN\n",
       "Mary   女   27    4500      D   NaN\n",
       "Lily   女   34    3900      A  56.0\n",
       "Joe    男   44    4500      C  45.8"
      ]
     },
     "execution_count": 18,
     "metadata": {},
     "output_type": "execute_result"
    }
   ],
   "source": [
    "dataFrame.set_index('name')"
   ]
  },
  {
   "cell_type": "markdown",
   "metadata": {},
   "source": [
    "### 数据删除\n",
    "使用drop来删除Series和DataFrame中的数据  \n",
    "dataFrame.drop([0,1])   \n",
    "dataFrame.drop([\"name\"],axis=1)  \n",
    "\n",
    "【课堂练习】使用drop删除整行整列数据"
   ]
  },
  {
   "cell_type": "code",
   "execution_count": 19,
   "metadata": {},
   "outputs": [
    {
     "name": "stdout",
     "output_type": "stream",
     "text": [
      "   name sex  age  salary\n",
      "a   Jim   男   28    3500\n",
      "b   Tom   男   37    4800\n",
      "c  Mary   女   27    4500\n",
      "d  Lily   女   34    3900\n"
     ]
    }
   ],
   "source": [
    "data = {\"name\": [\"Jim\", \"Tom\",\"Mary\",\"Lily\"],\n",
    "        \"sex\":['男','男','女','女'],\n",
    "        \"age\": [28,37,27,34],\n",
    "        \"salary\": [3500,4800,4500,3900]}\n",
    "dataFrame = pd.DataFrame(data,index=['a','b','c','d'])\n",
    "print(dataFrame)\n"
   ]
  },
  {
   "cell_type": "code",
   "execution_count": 20,
   "metadata": {
    "scrolled": true
   },
   "outputs": [
    {
     "data": {
      "text/html": [
       "<div>\n",
       "<style scoped>\n",
       "    .dataframe tbody tr th:only-of-type {\n",
       "        vertical-align: middle;\n",
       "    }\n",
       "\n",
       "    .dataframe tbody tr th {\n",
       "        vertical-align: top;\n",
       "    }\n",
       "\n",
       "    .dataframe thead th {\n",
       "        text-align: right;\n",
       "    }\n",
       "</style>\n",
       "<table border=\"1\" class=\"dataframe\">\n",
       "  <thead>\n",
       "    <tr style=\"text-align: right;\">\n",
       "      <th></th>\n",
       "      <th>name</th>\n",
       "      <th>sex</th>\n",
       "      <th>age</th>\n",
       "      <th>salary</th>\n",
       "    </tr>\n",
       "  </thead>\n",
       "  <tbody>\n",
       "    <tr>\n",
       "      <th>a</th>\n",
       "      <td>Jim</td>\n",
       "      <td>男</td>\n",
       "      <td>28</td>\n",
       "      <td>3500</td>\n",
       "    </tr>\n",
       "    <tr>\n",
       "      <th>b</th>\n",
       "      <td>Tom</td>\n",
       "      <td>男</td>\n",
       "      <td>37</td>\n",
       "      <td>4800</td>\n",
       "    </tr>\n",
       "    <tr>\n",
       "      <th>c</th>\n",
       "      <td>Mary</td>\n",
       "      <td>女</td>\n",
       "      <td>27</td>\n",
       "      <td>4500</td>\n",
       "    </tr>\n",
       "    <tr>\n",
       "      <th>d</th>\n",
       "      <td>Lily</td>\n",
       "      <td>女</td>\n",
       "      <td>34</td>\n",
       "      <td>3900</td>\n",
       "    </tr>\n",
       "  </tbody>\n",
       "</table>\n",
       "</div>"
      ],
      "text/plain": [
       "   name sex  age  salary\n",
       "a   Jim   男   28    3500\n",
       "b   Tom   男   37    4800\n",
       "c  Mary   女   27    4500\n",
       "d  Lily   女   34    3900"
      ]
     },
     "execution_count": 20,
     "metadata": {},
     "output_type": "execute_result"
    }
   ],
   "source": [
    "a=dataFrame.drop(['a','b'])\n",
    "dataFrame"
   ]
  },
  {
   "cell_type": "markdown",
   "metadata": {},
   "source": [
    "drop_duplicates删除重复值"
   ]
  },
  {
   "cell_type": "code",
   "execution_count": 21,
   "metadata": {},
   "outputs": [
    {
     "name": "stdout",
     "output_type": "stream",
     "text": [
      "   48  49  50\n",
      "0   1   2   3\n",
      "1   1   5   6\n",
      "2   7   8   9\n",
      "3  40  50  60\n",
      "4  23  35  37\n"
     ]
    },
    {
     "data": {
      "text/html": [
       "<div>\n",
       "<style scoped>\n",
       "    .dataframe tbody tr th:only-of-type {\n",
       "        vertical-align: middle;\n",
       "    }\n",
       "\n",
       "    .dataframe tbody tr th {\n",
       "        vertical-align: top;\n",
       "    }\n",
       "\n",
       "    .dataframe thead th {\n",
       "        text-align: right;\n",
       "    }\n",
       "</style>\n",
       "<table border=\"1\" class=\"dataframe\">\n",
       "  <thead>\n",
       "    <tr style=\"text-align: right;\">\n",
       "      <th></th>\n",
       "      <th>48</th>\n",
       "      <th>49</th>\n",
       "      <th>50</th>\n",
       "    </tr>\n",
       "  </thead>\n",
       "  <tbody>\n",
       "    <tr>\n",
       "      <th>1</th>\n",
       "      <td>1</td>\n",
       "      <td>5</td>\n",
       "      <td>6</td>\n",
       "    </tr>\n",
       "    <tr>\n",
       "      <th>2</th>\n",
       "      <td>7</td>\n",
       "      <td>8</td>\n",
       "      <td>9</td>\n",
       "    </tr>\n",
       "    <tr>\n",
       "      <th>3</th>\n",
       "      <td>40</td>\n",
       "      <td>50</td>\n",
       "      <td>60</td>\n",
       "    </tr>\n",
       "    <tr>\n",
       "      <th>4</th>\n",
       "      <td>23</td>\n",
       "      <td>35</td>\n",
       "      <td>37</td>\n",
       "    </tr>\n",
       "  </tbody>\n",
       "</table>\n",
       "</div>"
      ],
      "text/plain": [
       "   48  49  50\n",
       "1   1   5   6\n",
       "2   7   8   9\n",
       "3  40  50  60\n",
       "4  23  35  37"
      ]
     },
     "execution_count": 21,
     "metadata": {},
     "output_type": "execute_result"
    }
   ],
   "source": [
    "df = pd.DataFrame(data=np.array([[1, 2, 3], [1, 5, 6], [7, 8, 9], [40, 50, 60], [23, 35, 37]]), \n",
    "                  columns=[48, 49, 50])\n",
    "print(df)\n",
    "df.drop_duplicates([48],keep='last')"
   ]
  },
  {
   "cell_type": "markdown",
   "metadata": {},
   "source": [
    "### 数据浏览\n",
    "describe()  数据描述  \n",
    "head() 返回前N行  \n",
    "tail() 返回后N行  \n",
    "ndim 维数  \n",
    "size 元素个数  \n",
    "count()  \n",
    "sum()  \n",
    "mean()  \n",
    "median()  \n",
    "std()  \n",
    "min()  \n",
    "max()  \n",
    "abs()  \n",
    "prod()  \n",
    "cumsum()  \n",
    "cumprod()   \n",
    "\n",
    "【课堂练习】进行数据浏览计算统计指标"
   ]
  },
  {
   "cell_type": "code",
   "execution_count": 24,
   "metadata": {
    "scrolled": true
   },
   "outputs": [
    {
     "name": "stdout",
     "output_type": "stream",
     "text": [
      "   name sex  age  salary\n",
      "a   Jim   男   28    3500\n",
      "b   Tom   男   37    4800\n",
      "c  Mary   女   27    4500\n",
      "d  Lily   女   34    3900\n"
     ]
    }
   ],
   "source": [
    "import pandas as pd\n",
    "import numpy as np\n",
    "pd.set_option(\"max_columns\", 50)\n",
    "data = {\"name\": [\"Jim\", \"Tom\",\"Mary\",\"Lily\"],\n",
    "        \"sex\":['男','男','女','女'],\n",
    "        \"age\": [28,37,27,34],\n",
    "        \"salary\": [3500,4800,4500,3900]}\n",
    "dataFrame = pd.DataFrame(data,index=['a','b','c','d'])\n",
    "print(dataFrame)"
   ]
  },
  {
   "cell_type": "code",
   "execution_count": 25,
   "metadata": {},
   "outputs": [
    {
     "data": {
      "text/html": [
       "<div>\n",
       "<style scoped>\n",
       "    .dataframe tbody tr th:only-of-type {\n",
       "        vertical-align: middle;\n",
       "    }\n",
       "\n",
       "    .dataframe tbody tr th {\n",
       "        vertical-align: top;\n",
       "    }\n",
       "\n",
       "    .dataframe thead th {\n",
       "        text-align: right;\n",
       "    }\n",
       "</style>\n",
       "<table border=\"1\" class=\"dataframe\">\n",
       "  <thead>\n",
       "    <tr style=\"text-align: right;\">\n",
       "      <th></th>\n",
       "      <th>age</th>\n",
       "      <th>salary</th>\n",
       "    </tr>\n",
       "  </thead>\n",
       "  <tbody>\n",
       "    <tr>\n",
       "      <th>count</th>\n",
       "      <td>4.000000</td>\n",
       "      <td>4.000000</td>\n",
       "    </tr>\n",
       "    <tr>\n",
       "      <th>mean</th>\n",
       "      <td>31.500000</td>\n",
       "      <td>4175.000000</td>\n",
       "    </tr>\n",
       "    <tr>\n",
       "      <th>std</th>\n",
       "      <td>4.795832</td>\n",
       "      <td>585.234996</td>\n",
       "    </tr>\n",
       "    <tr>\n",
       "      <th>min</th>\n",
       "      <td>27.000000</td>\n",
       "      <td>3500.000000</td>\n",
       "    </tr>\n",
       "    <tr>\n",
       "      <th>25%</th>\n",
       "      <td>27.750000</td>\n",
       "      <td>3800.000000</td>\n",
       "    </tr>\n",
       "    <tr>\n",
       "      <th>50%</th>\n",
       "      <td>31.000000</td>\n",
       "      <td>4200.000000</td>\n",
       "    </tr>\n",
       "    <tr>\n",
       "      <th>75%</th>\n",
       "      <td>34.750000</td>\n",
       "      <td>4575.000000</td>\n",
       "    </tr>\n",
       "    <tr>\n",
       "      <th>max</th>\n",
       "      <td>37.000000</td>\n",
       "      <td>4800.000000</td>\n",
       "    </tr>\n",
       "  </tbody>\n",
       "</table>\n",
       "</div>"
      ],
      "text/plain": [
       "             age       salary\n",
       "count   4.000000     4.000000\n",
       "mean   31.500000  4175.000000\n",
       "std     4.795832   585.234996\n",
       "min    27.000000  3500.000000\n",
       "25%    27.750000  3800.000000\n",
       "50%    31.000000  4200.000000\n",
       "75%    34.750000  4575.000000\n",
       "max    37.000000  4800.000000"
      ]
     },
     "execution_count": 25,
     "metadata": {},
     "output_type": "execute_result"
    }
   ],
   "source": [
    "dataFrame.describe()"
   ]
  },
  {
   "cell_type": "markdown",
   "metadata": {},
   "source": [
    "#### 排序sort_values、sort_index"
   ]
  },
  {
   "cell_type": "code",
   "execution_count": 30,
   "metadata": {},
   "outputs": [
    {
     "name": "stdout",
     "output_type": "stream",
     "text": [
      "   name sex  age  salary\n",
      "a   Jim   男   28    3500\n",
      "b   Tom   男   37    4800\n",
      "c  Mary   女   27    4500\n",
      "d  Lily   女   34    3900\n",
      "   name sex  age  salary\n",
      "b   Tom   男   37    4800\n",
      "d  Lily   女   34    3900\n",
      "a   Jim   男   28    3500\n",
      "c  Mary   女   27    4500\n"
     ]
    }
   ],
   "source": [
    "print(dataFrame)\n",
    "#a = dataFrame.sort_values(by='salary')\n",
    "a=dataFrame.sort_values(by=['age','salary'],ascending=[False,True])\n",
    "print(a)"
   ]
  },
  {
   "cell_type": "markdown",
   "metadata": {},
   "source": [
    "#### 分组函数groupby\n",
    "返回重构格式的DataFrame"
   ]
  },
  {
   "cell_type": "code",
   "execution_count": 31,
   "metadata": {},
   "outputs": [
    {
     "name": "stdout",
     "output_type": "stream",
     "text": [
      "   name sex  age  salary\n",
      "a   Jim   男   28    3500\n",
      "b   Tom   男   37    4800\n",
      "c  Mary   女   27    4500\n",
      "d  Lily   女   34    3900\n",
      "sex\n",
      "女    4500\n",
      "男    4800\n",
      "Name: salary, dtype: int64\n"
     ]
    }
   ],
   "source": [
    "print(dataFrame)\n",
    "a = dataFrame.groupby(['sex'])['salary'].max()\n",
    "print(a)"
   ]
  },
  {
   "cell_type": "markdown",
   "metadata": {},
   "source": [
    "### 数据合并\n",
    "* Merge-类似关系数据库的连接\n",
    "* Join\n",
    "* append\n",
    "* concat"
   ]
  },
  {
   "cell_type": "markdown",
   "metadata": {},
   "source": [
    "#### merge\n",
    "通过一个或一个以上的键连接的。绝大功能和数据库操作类似。  \n",
    "pd.merge(left, right, how=’inner’, on=None, left_on=None, right_on=None, left_index=False,right_index=False, sort=False, suffixes=(‘_x’, ‘_y’), copy=True, indicator=False, validate=None)  \n",
    "参数含义：  \n",
    "left、right：左右连接对象  \n",
    "how：连接方式，共有’inner’,’left’,right’,’outer’  \n",
    "on：根据连接的键   \n",
    "left_on、right_on：在连接的键名不同的情况下使用，left_on传入左对象的键，right_on传入右对象的键  \n",
    "left_index、right_index：设置索引是否作为连接的键，通常 left_on=??和right_index=True, right_on=??和left_index=True，或者left_index=True和right_index=True  \n",
    "sort：对连接后的结果是否排序，当数据巨大的时候为了追求效率可以设置为False  \n",
    "suffixes：对于不作为键的同名列，在其列名后添加的后缀  \n",
    "copy：将左右对象的内容复制过来，默认为True  "
   ]
  },
  {
   "cell_type": "code",
   "execution_count": 32,
   "metadata": {},
   "outputs": [
    {
     "name": "stdout",
     "output_type": "stream",
     "text": [
      "  手机号码 性别  年龄\n",
      "0  001  男  32\n",
      "1  002  女  30\n",
      "2  003  男  15\n",
      "3  004  男  21\n",
      "4  005  女  44\n",
      "  手机号码   ARPU  交往圈\n",
      "0  001  129.6   12\n",
      "1  002  133.5   30\n",
      "2  003   82.6    7\n",
      "3  006   56.0   15\n"
     ]
    }
   ],
   "source": [
    "df1=pd.DataFrame({'手机号码':['001','002','003','004','005'],\n",
    "                  '性别':['男','女','男','男','女'],\n",
    "                  '年龄':[32,30,15,21,44]})\n",
    "print(df1)\n",
    "df2=pd.DataFrame({'手机号码':['001','002','003','006'],\n",
    "                  'ARPU':[129.6,133.5,82.6,56],\n",
    "                  '交往圈':[12,30,7,15]})\n",
    "print(df2)"
   ]
  },
  {
   "cell_type": "code",
   "execution_count": 33,
   "metadata": {},
   "outputs": [
    {
     "data": {
      "text/html": [
       "<div>\n",
       "<style scoped>\n",
       "    .dataframe tbody tr th:only-of-type {\n",
       "        vertical-align: middle;\n",
       "    }\n",
       "\n",
       "    .dataframe tbody tr th {\n",
       "        vertical-align: top;\n",
       "    }\n",
       "\n",
       "    .dataframe thead th {\n",
       "        text-align: right;\n",
       "    }\n",
       "</style>\n",
       "<table border=\"1\" class=\"dataframe\">\n",
       "  <thead>\n",
       "    <tr style=\"text-align: right;\">\n",
       "      <th></th>\n",
       "      <th>手机号码</th>\n",
       "      <th>性别</th>\n",
       "      <th>年龄</th>\n",
       "      <th>ARPU</th>\n",
       "      <th>交往圈</th>\n",
       "    </tr>\n",
       "  </thead>\n",
       "  <tbody>\n",
       "    <tr>\n",
       "      <th>0</th>\n",
       "      <td>001</td>\n",
       "      <td>男</td>\n",
       "      <td>32.0</td>\n",
       "      <td>129.6</td>\n",
       "      <td>12</td>\n",
       "    </tr>\n",
       "    <tr>\n",
       "      <th>1</th>\n",
       "      <td>002</td>\n",
       "      <td>女</td>\n",
       "      <td>30.0</td>\n",
       "      <td>133.5</td>\n",
       "      <td>30</td>\n",
       "    </tr>\n",
       "    <tr>\n",
       "      <th>2</th>\n",
       "      <td>003</td>\n",
       "      <td>男</td>\n",
       "      <td>15.0</td>\n",
       "      <td>82.6</td>\n",
       "      <td>7</td>\n",
       "    </tr>\n",
       "    <tr>\n",
       "      <th>3</th>\n",
       "      <td>006</td>\n",
       "      <td>NaN</td>\n",
       "      <td>NaN</td>\n",
       "      <td>56.0</td>\n",
       "      <td>15</td>\n",
       "    </tr>\n",
       "  </tbody>\n",
       "</table>\n",
       "</div>"
      ],
      "text/plain": [
       "  手机号码   性别    年龄   ARPU  交往圈\n",
       "0  001    男  32.0  129.6   12\n",
       "1  002    女  30.0  133.5   30\n",
       "2  003    男  15.0   82.6    7\n",
       "3  006  NaN   NaN   56.0   15"
      ]
     },
     "execution_count": 33,
     "metadata": {},
     "output_type": "execute_result"
    }
   ],
   "source": [
    "a = pd.merge(df1,df2,on='手机号码',how='right')\n",
    "a"
   ]
  },
  {
   "cell_type": "markdown",
   "metadata": {},
   "source": [
    "#### join\n",
    "能更加方便地按照对象df的索引进行合并，且能同时合并多个DataFrame对象。它具有如下参数：\n",
    "df.join(other, on=None, how=’left’, lsuffix=”, rsuffix=”, sort=False)"
   ]
  },
  {
   "cell_type": "code",
   "execution_count": 34,
   "metadata": {},
   "outputs": [
    {
     "data": {
      "text/html": [
       "<div>\n",
       "<style scoped>\n",
       "    .dataframe tbody tr th:only-of-type {\n",
       "        vertical-align: middle;\n",
       "    }\n",
       "\n",
       "    .dataframe tbody tr th {\n",
       "        vertical-align: top;\n",
       "    }\n",
       "\n",
       "    .dataframe thead th {\n",
       "        text-align: right;\n",
       "    }\n",
       "</style>\n",
       "<table border=\"1\" class=\"dataframe\">\n",
       "  <thead>\n",
       "    <tr style=\"text-align: right;\">\n",
       "      <th></th>\n",
       "      <th>手机号码</th>\n",
       "      <th>性别</th>\n",
       "      <th>年龄</th>\n",
       "      <th>手机号码['left', 'right']</th>\n",
       "      <th>ARPU</th>\n",
       "      <th>交往圈</th>\n",
       "    </tr>\n",
       "  </thead>\n",
       "  <tbody>\n",
       "    <tr>\n",
       "      <th>0</th>\n",
       "      <td>001</td>\n",
       "      <td>男</td>\n",
       "      <td>32</td>\n",
       "      <td>001</td>\n",
       "      <td>129.6</td>\n",
       "      <td>12.0</td>\n",
       "    </tr>\n",
       "    <tr>\n",
       "      <th>1</th>\n",
       "      <td>002</td>\n",
       "      <td>女</td>\n",
       "      <td>30</td>\n",
       "      <td>002</td>\n",
       "      <td>133.5</td>\n",
       "      <td>30.0</td>\n",
       "    </tr>\n",
       "    <tr>\n",
       "      <th>2</th>\n",
       "      <td>003</td>\n",
       "      <td>男</td>\n",
       "      <td>15</td>\n",
       "      <td>003</td>\n",
       "      <td>82.6</td>\n",
       "      <td>7.0</td>\n",
       "    </tr>\n",
       "    <tr>\n",
       "      <th>3</th>\n",
       "      <td>004</td>\n",
       "      <td>男</td>\n",
       "      <td>21</td>\n",
       "      <td>006</td>\n",
       "      <td>56.0</td>\n",
       "      <td>15.0</td>\n",
       "    </tr>\n",
       "    <tr>\n",
       "      <th>4</th>\n",
       "      <td>005</td>\n",
       "      <td>女</td>\n",
       "      <td>44</td>\n",
       "      <td>NaN</td>\n",
       "      <td>NaN</td>\n",
       "      <td>NaN</td>\n",
       "    </tr>\n",
       "  </tbody>\n",
       "</table>\n",
       "</div>"
      ],
      "text/plain": [
       "  手机号码 性别  年龄 手机号码['left', 'right']   ARPU   交往圈\n",
       "0  001  男  32                   001  129.6  12.0\n",
       "1  002  女  30                   002  133.5  30.0\n",
       "2  003  男  15                   003   82.6   7.0\n",
       "3  004  男  21                   006   56.0  15.0\n",
       "4  005  女  44                   NaN    NaN   NaN"
      ]
     },
     "execution_count": 34,
     "metadata": {},
     "output_type": "execute_result"
    }
   ],
   "source": [
    "a = df1.join(df2,rsuffix=['left','right'])\n",
    "a"
   ]
  },
  {
   "cell_type": "markdown",
   "metadata": {},
   "source": [
    "#### Concat\n",
    "连接两个或两个以上的Series或DataFrame对象。   \n",
    "pd.concat(objs, axis=0, join=’outer’, join_axes=None, ignore_index=False, keys=None, levels=None, names=None, verify_integrity=False, copy=True)  \n",
    "参数说明:  \n",
    "objs：连接对象，多以列表、字典传入  \n",
    "axis：轴向，0代表纵向连接，1，代表横向连接  \n",
    "join：连接方式，共有’inner’,’left’,right’,’outer’  \n",
    "join_axes:参与连接的索引  \n",
    "ignore_index：是否忽略索引  \n",
    "keys：层次化索引  "
   ]
  },
  {
   "cell_type": "code",
   "execution_count": 35,
   "metadata": {},
   "outputs": [
    {
     "name": "stdout",
     "output_type": "stream",
     "text": [
      "   Red  Green\n",
      "a    1      5\n",
      "b    3      0\n",
      "d    5      3\n",
      "   Blue  Yellow\n",
      "c     1       6\n",
      "e     9       6\n"
     ]
    },
    {
     "data": {
      "text/html": [
       "<div>\n",
       "<style scoped>\n",
       "    .dataframe tbody tr th:only-of-type {\n",
       "        vertical-align: middle;\n",
       "    }\n",
       "\n",
       "    .dataframe tbody tr th {\n",
       "        vertical-align: top;\n",
       "    }\n",
       "\n",
       "    .dataframe thead tr th {\n",
       "        text-align: left;\n",
       "    }\n",
       "</style>\n",
       "<table border=\"1\" class=\"dataframe\">\n",
       "  <thead>\n",
       "    <tr>\n",
       "      <th></th>\n",
       "      <th colspan=\"2\" halign=\"left\">A</th>\n",
       "      <th colspan=\"2\" halign=\"left\">B</th>\n",
       "    </tr>\n",
       "    <tr>\n",
       "      <th></th>\n",
       "      <th>Red</th>\n",
       "      <th>Green</th>\n",
       "      <th>Blue</th>\n",
       "      <th>Yellow</th>\n",
       "    </tr>\n",
       "  </thead>\n",
       "  <tbody>\n",
       "    <tr>\n",
       "      <th>a</th>\n",
       "      <td>1.0</td>\n",
       "      <td>5.0</td>\n",
       "      <td>NaN</td>\n",
       "      <td>NaN</td>\n",
       "    </tr>\n",
       "    <tr>\n",
       "      <th>b</th>\n",
       "      <td>3.0</td>\n",
       "      <td>0.0</td>\n",
       "      <td>NaN</td>\n",
       "      <td>NaN</td>\n",
       "    </tr>\n",
       "    <tr>\n",
       "      <th>d</th>\n",
       "      <td>5.0</td>\n",
       "      <td>3.0</td>\n",
       "      <td>NaN</td>\n",
       "      <td>NaN</td>\n",
       "    </tr>\n",
       "    <tr>\n",
       "      <th>c</th>\n",
       "      <td>NaN</td>\n",
       "      <td>NaN</td>\n",
       "      <td>1.0</td>\n",
       "      <td>6.0</td>\n",
       "    </tr>\n",
       "    <tr>\n",
       "      <th>e</th>\n",
       "      <td>NaN</td>\n",
       "      <td>NaN</td>\n",
       "      <td>9.0</td>\n",
       "      <td>6.0</td>\n",
       "    </tr>\n",
       "  </tbody>\n",
       "</table>\n",
       "</div>"
      ],
      "text/plain": [
       "     A          B       \n",
       "   Red Green Blue Yellow\n",
       "a  1.0   5.0  NaN    NaN\n",
       "b  3.0   0.0  NaN    NaN\n",
       "d  5.0   3.0  NaN    NaN\n",
       "c  NaN   NaN  1.0    6.0\n",
       "e  NaN   NaN  9.0    6.0"
      ]
     },
     "execution_count": 35,
     "metadata": {},
     "output_type": "execute_result"
    }
   ],
   "source": [
    "df3=pd.DataFrame({'Red':[1,3,5],'Green':[5,0,3]},index=list('abd'))\n",
    "print(df3)\n",
    "df4=pd.DataFrame({'Blue':[1,9],'Yellow':[6,6]},index=list('ce'))\n",
    "print(df4)\n",
    "pd.concat([df3,df4],axis=1,keys=['A','B'],sort=False)"
   ]
  },
  {
   "cell_type": "markdown",
   "metadata": {},
   "source": [
    "#### append\n",
    "将其他行添加到此DataFrame的末尾，返回一个新对象。 不在此DataFrame中的列将作为新列添加。  \n",
    "append(other, ignore_index=False, verify_integrity=False, sort=None)  \n",
    "参数  \n",
    "other：DataFrame或Series / dict-like对象，或者这些要附加的数据的列表  \n",
    "ignore_index: 布尔值，默认False。如果为真，就不会使用索引标签  "
   ]
  },
  {
   "cell_type": "code",
   "execution_count": 36,
   "metadata": {},
   "outputs": [
    {
     "name": "stdout",
     "output_type": "stream",
     "text": [
      "   A  B\n",
      "0  1  2\n",
      "1  3  4\n",
      "   A  B   C\n",
      "0  5  6   7\n",
      "1  8  9  10\n",
      "\n",
      "    A  B     C\n",
      "0  1  2   NaN\n",
      "1  3  4   NaN\n",
      "0  5  6   7.0\n",
      "1  8  9  10.0\n",
      "\n",
      "    A  B     C\n",
      "0  1  2   NaN\n",
      "1  3  4   NaN\n",
      "2  5  6   7.0\n",
      "3  8  9  10.0\n"
     ]
    }
   ],
   "source": [
    "df1 = pd.DataFrame([[1, 2], [3, 4]], columns=list('AB'))\n",
    "print(df1)\n",
    "df2 = pd.DataFrame([[5, 6,7], [8, 9,10]], columns=list('ABC'))\n",
    "print(df2)\n",
    "df3 = df1.append(df2,sort=False)\n",
    "print('\\n',df3)\n",
    "df4 = df1.append(df2,ignore_index=True,sort=False)\n",
    "print('\\n',df4)"
   ]
  },
  {
   "cell_type": "markdown",
   "metadata": {},
   "source": [
    "## 缺失值处理\n",
    "dropna：根据各标签的值中是否存在缺失数据对轴标签进行过滤，可通过阈值调节对缺失值的容忍度  \n",
    "DataFrame.dropna(axis=0, how='any', thresh=None, subset=None, inplace=False)  \n",
    "参数：    \n",
    "axis : {0 or ‘index’, 1 or ‘columns’},或 tuple/list     \n",
    "how : {‘any’, ‘all’}any : 如果存在任何NA值，则放弃该标签；all : 如果所有的值NA值，则放弃该标签  \n",
    "thresh : int, 默认值 None ；要求每排至少N个非NA值　　 \n",
    "subset : 类似数组  \n",
    "inplace : boolean, 默认值 False；如果为True，则进行操作并返回None  \n"
   ]
  },
  {
   "cell_type": "code",
   "execution_count": 37,
   "metadata": {},
   "outputs": [
    {
     "name": "stdout",
     "output_type": "stream",
     "text": [
      "     0    1    2   3\n",
      "0  1.0  5.0  9.0 NaN\n",
      "1  NaN  3.0  7.0 NaN\n",
      "2  6.0  NaN  2.0 NaN\n",
      "3  NaN  NaN  NaN NaN\n",
      "4  1.0  2.0  3.0 NaN\n",
      "Empty DataFrame\n",
      "Columns: [0, 1, 2, 3]\n",
      "Index: []\n",
      "     0    1    2\n",
      "0  1.0  5.0  9.0\n",
      "1  NaN  3.0  7.0\n",
      "2  6.0  NaN  2.0\n",
      "3  NaN  NaN  NaN\n",
      "4  1.0  2.0  3.0\n",
      "     0    1    2   3\n",
      "0  1.0  5.0  9.0 NaN\n",
      "4  1.0  2.0  3.0 NaN\n"
     ]
    }
   ],
   "source": [
    "df=pd.DataFrame([[1,5,9,np.nan],[np.nan,3,7,np.nan],[6,np.nan,2,np.nan],\n",
    "                 [np.nan,np.nan,np.nan,np.nan],[1,2,3,np.nan]])\n",
    "print(df)\n",
    "print(df.dropna())\n",
    "print(df.dropna(how='all',axis=1)) # 按列删除\n",
    "print(df.dropna(how='all',thresh=3)) #保留至少有3个非空值的行"
   ]
  },
  {
   "cell_type": "markdown",
   "metadata": {},
   "source": [
    "fillna:使用指定的方法填充NA/NaN值  \n",
    "DataFrame.fillna(value=None, method=None, axis=None, inplace=False, limit=None, downcast=None, **kwargs)  \n",
    "参数：  \n",
    "value : 变量, 字典, Series, or DataFrame  \n",
    "method : {‘backfill’, ‘bfill’, ‘pad’, ‘ffill’, None}, 默认值 None  \n",
    "axis : {0 or ‘index’, 1 or ‘columns’}  \n",
    "inplace : boolean, 默认值 False;如果为Ture,在原地填满。注意：这将修改次对象上的任何其他视图（例如，DataFrame中的列的无复制贴片）  \n",
    "limit : int, 默认值 None;如果指定了方法，则这是连续的NaN值的前向/后向填充的最大数量。"
   ]
  },
  {
   "cell_type": "code",
   "execution_count": 38,
   "metadata": {
    "scrolled": true
   },
   "outputs": [
    {
     "name": "stdout",
     "output_type": "stream",
     "text": [
      "     0    1    2   3\n",
      "0  1.0  5.0  9.0 NaN\n",
      "1  NaN  3.0  7.0 NaN\n",
      "2  6.0  NaN  2.0 NaN\n",
      "3  NaN  NaN  NaN NaN\n",
      "4  1.0  2.0  3.0 NaN\n"
     ]
    },
    {
     "data": {
      "text/html": [
       "<div>\n",
       "<style scoped>\n",
       "    .dataframe tbody tr th:only-of-type {\n",
       "        vertical-align: middle;\n",
       "    }\n",
       "\n",
       "    .dataframe tbody tr th {\n",
       "        vertical-align: top;\n",
       "    }\n",
       "\n",
       "    .dataframe thead th {\n",
       "        text-align: right;\n",
       "    }\n",
       "</style>\n",
       "<table border=\"1\" class=\"dataframe\">\n",
       "  <thead>\n",
       "    <tr style=\"text-align: right;\">\n",
       "      <th></th>\n",
       "      <th>0</th>\n",
       "      <th>1</th>\n",
       "      <th>2</th>\n",
       "      <th>3</th>\n",
       "    </tr>\n",
       "  </thead>\n",
       "  <tbody>\n",
       "    <tr>\n",
       "      <th>0</th>\n",
       "      <td>1.0</td>\n",
       "      <td>5.0</td>\n",
       "      <td>9.0</td>\n",
       "      <td>NaN</td>\n",
       "    </tr>\n",
       "    <tr>\n",
       "      <th>1</th>\n",
       "      <td>1.0</td>\n",
       "      <td>3.0</td>\n",
       "      <td>7.0</td>\n",
       "      <td>NaN</td>\n",
       "    </tr>\n",
       "    <tr>\n",
       "      <th>2</th>\n",
       "      <td>6.0</td>\n",
       "      <td>3.0</td>\n",
       "      <td>2.0</td>\n",
       "      <td>NaN</td>\n",
       "    </tr>\n",
       "    <tr>\n",
       "      <th>3</th>\n",
       "      <td>6.0</td>\n",
       "      <td>NaN</td>\n",
       "      <td>2.0</td>\n",
       "      <td>NaN</td>\n",
       "    </tr>\n",
       "    <tr>\n",
       "      <th>4</th>\n",
       "      <td>1.0</td>\n",
       "      <td>2.0</td>\n",
       "      <td>3.0</td>\n",
       "      <td>NaN</td>\n",
       "    </tr>\n",
       "  </tbody>\n",
       "</table>\n",
       "</div>"
      ],
      "text/plain": [
       "     0    1    2   3\n",
       "0  1.0  5.0  9.0 NaN\n",
       "1  1.0  3.0  7.0 NaN\n",
       "2  6.0  3.0  2.0 NaN\n",
       "3  6.0  NaN  2.0 NaN\n",
       "4  1.0  2.0  3.0 NaN"
      ]
     },
     "execution_count": 38,
     "metadata": {},
     "output_type": "execute_result"
    }
   ],
   "source": [
    "print(df)\n",
    "#df.fillna(0) #常数填充\n",
    "\n",
    "df.fillna(method='ffill') #向后填充\n",
    "df.fillna(method='ffill',limit=1) #向后填充，且可以连续填充的最大数量为1"
   ]
  },
  {
   "cell_type": "code",
   "execution_count": 531,
   "metadata": {},
   "outputs": [
    {
     "data": {
      "text/html": [
       "<div>\n",
       "<style scoped>\n",
       "    .dataframe tbody tr th:only-of-type {\n",
       "        vertical-align: middle;\n",
       "    }\n",
       "\n",
       "    .dataframe tbody tr th {\n",
       "        vertical-align: top;\n",
       "    }\n",
       "\n",
       "    .dataframe thead th {\n",
       "        text-align: right;\n",
       "    }\n",
       "</style>\n",
       "<table border=\"1\" class=\"dataframe\">\n",
       "  <thead>\n",
       "    <tr style=\"text-align: right;\">\n",
       "      <th></th>\n",
       "      <th>Open</th>\n",
       "      <th>High</th>\n",
       "      <th>Low</th>\n",
       "      <th>Close</th>\n",
       "      <th>Adj Close</th>\n",
       "      <th>Volume</th>\n",
       "    </tr>\n",
       "    <tr>\n",
       "      <th>Date</th>\n",
       "      <th></th>\n",
       "      <th></th>\n",
       "      <th></th>\n",
       "      <th></th>\n",
       "      <th></th>\n",
       "      <th></th>\n",
       "    </tr>\n",
       "  </thead>\n",
       "  <tbody>\n",
       "    <tr>\n",
       "      <th>2012-09-10</th>\n",
       "      <td>2.79067</td>\n",
       "      <td>2.82177</td>\n",
       "      <td>2.76316</td>\n",
       "      <td>2.77751</td>\n",
       "      <td>2.77751</td>\n",
       "      <td>38645011</td>\n",
       "    </tr>\n",
       "    <tr>\n",
       "      <th>2012-09-11</th>\n",
       "      <td>2.79904</td>\n",
       "      <td>2.82057</td>\n",
       "      <td>2.77392</td>\n",
       "      <td>2.81100</td>\n",
       "      <td>2.81100</td>\n",
       "      <td>58981496</td>\n",
       "    </tr>\n",
       "    <tr>\n",
       "      <th>2012-09-12</th>\n",
       "      <td>2.82177</td>\n",
       "      <td>2.83373</td>\n",
       "      <td>2.70933</td>\n",
       "      <td>2.77632</td>\n",
       "      <td>2.77632</td>\n",
       "      <td>50277549</td>\n",
       "    </tr>\n",
       "    <tr>\n",
       "      <th>2012-09-13</th>\n",
       "      <td>2.77512</td>\n",
       "      <td>2.77512</td>\n",
       "      <td>2.71172</td>\n",
       "      <td>2.71292</td>\n",
       "      <td>2.71292</td>\n",
       "      <td>29672156</td>\n",
       "    </tr>\n",
       "    <tr>\n",
       "      <th>2012-09-14</th>\n",
       "      <td>2.71770</td>\n",
       "      <td>2.75000</td>\n",
       "      <td>2.62081</td>\n",
       "      <td>2.71292</td>\n",
       "      <td>2.71292</td>\n",
       "      <td>34779807</td>\n",
       "    </tr>\n",
       "  </tbody>\n",
       "</table>\n",
       "</div>"
      ],
      "text/plain": [
       "               Open     High      Low    Close  Adj Close    Volume\n",
       "Date                                                               \n",
       "2012-09-10  2.79067  2.82177  2.76316  2.77751    2.77751  38645011\n",
       "2012-09-11  2.79904  2.82057  2.77392  2.81100    2.81100  58981496\n",
       "2012-09-12  2.82177  2.83373  2.70933  2.77632    2.77632  50277549\n",
       "2012-09-13  2.77512  2.77512  2.71172  2.71292    2.71292  29672156\n",
       "2012-09-14  2.71770  2.75000  2.62081  2.71292    2.71292  34779807"
      ]
     },
     "execution_count": 531,
     "metadata": {},
     "output_type": "execute_result"
    }
   ],
   "source": [
    "stock = pd.read_csv('data/300104.SZ.csv',header=0,parse_dates=['Date'],index_col='Date')\n",
    "stock.head()"
   ]
  },
  {
   "cell_type": "markdown",
   "metadata": {},
   "source": [
    "### to_csv 保存数据\n",
    "主要参数：  \n",
    "路径 path_or_buf: A string path to the file to write or a StringIO   \n",
    "分隔符 sep : Field delimiter for the output file (default ”,”)  \n",
    "替换空值 na_rep: A string representation of a missing value (default ‘’)   \n",
    "小数格式 float_format: Format string for floating point numbers  \n",
    "是否保留列名 header: Whether to write out the column names (default True)   \n",
    "是否保留行索引 index:  whether to write row (index) names (default True)"
   ]
  },
  {
   "cell_type": "code",
   "execution_count": 533,
   "metadata": {},
   "outputs": [],
   "source": [
    "stock.to_csv(\"data/newfile.csv\")"
   ]
  }
 ],
 "metadata": {
  "kernelspec": {
   "display_name": "Python 3",
   "language": "python",
   "name": "python3"
  },
  "language_info": {
   "codemirror_mode": {
    "name": "ipython",
    "version": 3
   },
   "file_extension": ".py",
   "mimetype": "text/x-python",
   "name": "python",
   "nbconvert_exporter": "python",
   "pygments_lexer": "ipython3",
   "version": "3.6.7"
  }
 },
 "nbformat": 4,
 "nbformat_minor": 1
}
